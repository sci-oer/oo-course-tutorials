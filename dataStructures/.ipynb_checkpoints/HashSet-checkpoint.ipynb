{
 "cells": [
  {
   "cell_type": "markdown",
   "metadata": {},
   "source": [
    "### **HashSet**\n",
    "\n",
    "A set is a collection of unique elements that are immutable. Thus, a set has no duplicate entries.  Entries can be removed, but not mutated.\n",
    "\n",
    "\n",
    "#### Creating A HashSet\n",
    "\n",
    "**There are Four `HashSet` Constructors:**\n",
    "\n",
    "- To create an empty `HashSet` with default initial capacity 16 and load factor of 0.75: `HashSet<type> set = new HashSet<>();`\n",
    "\n",
    "- To create a `HashSet` to specify the initial capacity and the default  load factor of 0.75: `HashSet<type> set = new HashSet<>(int initialCapacity);`\n",
    "\n",
    "- To create a `HashSet` with specified initial capacity and load factor: `HashSet<type> set = new HashSet<>(int initialCapacity, float loadFactor);`\n",
    "\n",
    "- To create a `HashSet` with collection `C` elements and load factor of 0.75: `HashSet<type> set = new HashSet<>(Collection C);`\n",
    "\n",
    "\n",
    "Create an `HashSet` object called wordList that will store strings:"
   ]
  },
  {
   "cell_type": "code",
   "execution_count": null,
   "metadata": {},
   "outputs": [],
   "source": [
    "// Create an HashSet to store strings.  default capacity and load factors are fine\n",
    "\n"
   ]
  },
  {
   "cell_type": "markdown",
   "metadata": {},
   "source": [
    "#### Add Items\n",
    "\n",
    "- To Add element to `HashSet` if it doesn't already exist: `add(Object)`\n",
    "\n",
    "Add several strings to your HashSet."
   ]
  },
  {
   "cell_type": "code",
   "execution_count": null,
   "metadata": {
    "tags": []
   },
   "outputs": [],
   "source": [
    "// add some strings to your HashSet.   It dooesn't matter what they are.\n",
    "\n",
    "HashSet<String> temp = new HashSet<>();\n",
    "temp.add(\"frog\");\n",
    "temp.add(\"rabbit\");\n",
    "\n",
    "//HashSet has a size() method.  Use it to determine that your set is the expected size\n",
    "\n",
    "System.out.println(temp.size());"
   ]
  },
  {
   "cell_type": "markdown",
   "metadata": {},
   "source": [
    "The `add` method of HashSet returns a boolean value (true/false).  It returns true (1) if the element was added to the HashSet.  It returns false (0) if the element already existed in the HashSet.\n",
    "Try adding a string to your HashSet that is already in it.  Catch the boolean return value in a variable and observe what happens.\n"
   ]
  },
  {
   "cell_type": "code",
   "execution_count": null,
   "metadata": {},
   "outputs": [],
   "source": [
    "//try to add a duplicate string to your HashSet.\n",
    "\n",
    "boolean success;\n",
    "success = yourhashsetnamehere.add(somevalueyouarleadyhavein it);\n",
    "System.out.println(success);"
   ]
  },
  {
   "cell_type": "markdown",
   "metadata": {},
   "source": [
    "#### Removing Elements\n",
    "\n",
    "To remove an element from the `HashSet`: `remove(Object)`  The remove method returns true/false to let you know if the item was successfully removed.\n",
    "\n",
    "\n"
   ]
  },
  {
   "cell_type": "code",
   "execution_count": null,
   "metadata": {},
   "outputs": [],
   "source": [
    "/*remove one of the strings you added to the HashSet.   Catch the return \n",
    "value in a boolean variable and check to see that the removal was successful */\n",
    "\n",
    "boolean success = temp.remove(\"frog\");\n",
    "\n",
    "System.out.println(temp.size());\n",
    "System.out.println(success);"
   ]
  },
  {
   "cell_type": "markdown",
   "metadata": {},
   "source": [
    "### Enhanced for loop and HashSet\n",
    "\n",
    "The HashSet can be iterated through with the enhanced for loop.  Print all the elements of your HashSet below.\n",
    "\n"
   ]
  },
  {
   "cell_type": "code",
   "execution_count": null,
   "metadata": {},
   "outputs": [],
   "source": [
    "// Print the values in the  HashSet using a  loop\n",
    "\n",
    "for(String word: temp){\n",
    "    System.out.println(word);\n",
    "}\n",
    "    \n",
    "    "
   ]
  },
  {
   "cell_type": "markdown",
   "metadata": {},
   "source": [
    "### Unique values\n",
    "\n",
    "One of the useful features of a HashSet is the restriction that every element in the set is unique.  Lets use your wordList HashSet to count the unique words in a paragraph.  \n",
    "\n",
    "Start by using the `clear()` method to remove all of the existing elements.\n",
    "Then use a loop to add all of the words in the paragraph provided to your HashSet.   The size of the set will tell you the number of unique words in the paragraph.  The correct answer is 41.   If you are getting the answer 43, can you debug the algorithm to deduce why?   There is a string method that can help you fix the error.\n",
    "\n",
    "\n",
    "Try it with other paragraphs.\n",
    "\n"
   ]
  },
  {
   "cell_type": "code",
   "execution_count": null,
   "metadata": {},
   "outputs": [],
   "source": [
    "String paragraph = \"I must not fear. Fear is the mind-killer. Fear is the little-death that brings total obliteration. I will face my fear. I will permit it to pass over me and through me. And when it has gone past I will turn the inner eye to see its path. Where the fear has gone there will be nothing. Only I will remain.\";\n",
    "\n",
    "/*\n",
    "Arrays.asList() is a static method of the Arrays class \n",
    "that turns an array into a List.\n",
    "the split method of the String class turns a String into an Array\n",
    "by splitting on the provided delimeter*/\n",
    "ArrayList<String> words = new ArrayList<String>(Arrays.asList(paragraph.split(\" \"))); \n",
    "\n",
    "/* use a for loop here with the words arraylist to add each word\n",
    "to your hashset */\n",
    "\n"
   ]
  },
  {
   "cell_type": "code",
   "execution_count": null,
   "metadata": {},
   "outputs": [],
   "source": []
  }
 ],
 "metadata": {
  "kernelspec": {
   "display_name": "Java11",
   "language": "java",
   "name": "java"
  },
  "language_info": {
   "codemirror_mode": "text/x-java",
   "file_extension": ".java",
   "mimetype": "",
   "name": "Java",
   "nbconverter_exporter": "",
   "version": "11.0.13"
  }
 },
 "nbformat": 4,
 "nbformat_minor": 4
}
