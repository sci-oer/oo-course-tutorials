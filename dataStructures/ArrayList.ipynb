{
 "cells": [
  {
   "cell_type": "markdown",
   "metadata": {},
   "source": [
    "### **ArrayList**\n",
    "\n",
    "The ArrayList class is from the `java.util` package.\n",
    "\n",
    "\n",
    "#### Creating an ArrayList\n",
    "\n",
    "**There are three `ArrayList` Constructors:**\n",
    "\n",
    "- To create an empty arraylist: `ArrayList<type> arr = new ArrayList<>();`\n",
    "\n",
    "- To create an arraylist using the elements from some other collection: `ArrayList<type> arr = new ArrayList<>(referenceToCollection);`\n",
    "\n",
    "- To create an arraylist with a specified initial capacity `N`: `ArrayList<type> arr = new ArrayList<>(N);`\n",
    "\n",
    "### Practice\n",
    "\n",
    "Create a reference to an `ArrayList` object called colors that will store strings.\n",
    "Create the `ArrayList` object and assign it to the reference variable."
   ]
  },
  {
   "cell_type": "code",
   "execution_count": null,
   "metadata": {},
   "outputs": [],
   "source": [
    "// Create an ArrayList object and assign it to a variable called colours\n",
    "\n",
    "\n"
   ]
  },
  {
   "cell_type": "markdown",
   "metadata": {},
   "source": [
    "#### Add Items\n",
    "\n",
    "ArrayLists automatically resize as elements are added and removed. \n",
    "\n",
    "**There are two ways to add elements in an `ArrayList`:**\n",
    "\n",
    "- To add an element to the end of the `ArrayList`: `add(Object)`\n",
    "\n",
    "- To add an element at a specific index: `add(int index, Object)`\n",
    "\n",
    "Add elements to the colors `ArrayList` you made above, use the `add()` method:"
   ]
  },
  {
   "cell_type": "code",
   "execution_count": null,
   "metadata": {},
   "outputs": [],
   "source": [
    "// add the following elements to the ArrayList colors: red, orange, yellow, green, indigo, violet\n",
    "\n",
    "\n",
    "// now insert the element blue so that it is between between green and indigo\n",
    "\n"
   ]
  },
  {
   "cell_type": "markdown",
   "metadata": {},
   "source": [
    "#### Access an Item\n",
    "\n",
    "- To access elements of a specific index from the `ArrayList` : `get(index)`\n",
    "\n",
    "An array indexes start with index 0 as the first element, 1 as the second element, etc..\n",
    "\n",
    "Print out the values at position 4 and position 0 of the colours ArrayList."
   ]
  },
  {
   "cell_type": "code",
   "execution_count": null,
   "metadata": {},
   "outputs": [],
   "source": [
    "//position 4\n",
    "\n",
    "\n",
    "//position 0\n",
    "\n"
   ]
  },
  {
   "cell_type": "markdown",
   "metadata": {},
   "source": [
    "#### Change an element\n",
    "\n",
    "- To change an element at a specific index: `set(index, Object)`\n",
    "\n",
    "Change the Indigo element in the colors `ArrayList` to White"
   ]
  },
  {
   "cell_type": "code",
   "execution_count": null,
   "metadata": {},
   "outputs": [],
   "source": [
    "// Change the Indigo element in the colors `ArrayList` to White\n",
    "\n"
   ]
  },
  {
   "cell_type": "markdown",
   "metadata": {},
   "source": [
    "#### Removing Elements\n",
    "\n",
    "**There are two ways to remove an element in an `ArrayList`:**\n",
    "\n",
    "- To remove an object from an `ArrayList`. If there are more than one object with the same name, then the first one will be removed: `remove(Object)`\n",
    "\n",
    "- To remove an element at a specific index: `remove(int index)`\n",
    "\n",
    "Remove the white element from the colors `ArrayList`"
   ]
  },
  {
   "cell_type": "code",
   "execution_count": null,
   "metadata": {},
   "outputs": [],
   "source": [
    "// modify the colors `ArrayList` again by removing the White element\n",
    "\n"
   ]
  },
  {
   "cell_type": "markdown",
   "metadata": {},
   "source": [
    "#### Iterate Through an ArrayList \n",
    "\n",
    "Use the enhanced for loop to iterate through your colours arraylist and print out the colours.   The syntax for the enhanced for loop is:\n",
    "`for(Type variableName: collection){code you want to run on each element}\n",
    "\n",
    "Iterate through the colors `ArrayList` you created and modified above. "
   ]
  },
  {
   "cell_type": "code",
   "execution_count": null,
   "metadata": {},
   "outputs": [],
   "source": [
    "// Loop through the elements of the colors ArrayList and print each colour\n",
    "\n",
    "\n",
    "\n",
    "    \n",
    "    "
   ]
  },
  {
   "cell_type": "markdown",
   "metadata": {},
   "source": [
    "You should see a result that looks something like: <br>\n",
    "Red<br>\n",
    "Orange<br>\n",
    "Yellow<br>\n",
    "Green<br>\n",
    "Blue<br>\n",
    "Violet<br>\n",
    "\n",
    "Now insert Indigo back into the colours arraylist in the appropriate spot for listing the colours of the rainbow and print the contents of the list out again."
   ]
  },
  {
   "cell_type": "code",
   "execution_count": null,
   "metadata": {},
   "outputs": [],
   "source": []
  }
 ],
 "metadata": {
  "kernelspec": {
   "display_name": "Java11",
   "language": "java",
   "name": "java"
  },
  "language_info": {
   "codemirror_mode": "text/x-java",
   "file_extension": ".java",
   "mimetype": "",
   "name": "Java",
   "nbconverter_exporter": "",
   "version": "11.0.13"
  }
 },
 "nbformat": 4,
 "nbformat_minor": 4
}
