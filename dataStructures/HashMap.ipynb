{
 "cells": [
  {
   "cell_type": "markdown",
   "metadata": {},
   "source": [
    "### **HashMap**\n",
    "\n",
    "A HashMap stores items in key/value pair, where it access values by their keys.\n",
    "\n",
    "\n",
    "#### HashMaps Constructors \n",
    "\n",
    "**There are Four `HashMaps` Constructors:**\n",
    "\n",
    "- To create an empty `Hashap` with default initial capacity 16 and load factor of 0.75: `HashMap<K, V> hashmap = new HashMap<>();`\n",
    "\n",
    "- To create a `HashMap` to specify the initial capacity and default load factor of0.75: `HashMap<K, V> hashmap = new HashMap<>(int initialCapacity);`\n",
    "\n",
    "- To create a `HashMap` with specified initial capacity and load factor: `HashMap<K, V> hashmap = new HashMap<>(int initialCapacity, int  loadFactor);`\n",
    "\n",
    "- To create a `HashMap` with collection `map` elements and load factor of 0.75: `HashMap<K, V> hashmap = new HashMap<>(Map map);`\n",
    "\n",
    "\n",
    "Declare a HashMap with String keys and String values.   Assign it to a variable called bookStore."
   ]
  },
  {
   "cell_type": "code",
   "execution_count": null,
   "metadata": {},
   "outputs": [],
   "source": [
    "// Create an HashMap object called bookStore with the default initial capacity and load factor. \n",
    "\n"
   ]
  },
  {
   "cell_type": "markdown",
   "metadata": {},
   "source": [
    "#### Add Items\n",
    "\n",
    "- To add a mapping to a `HashMap`: `put(key, value)`\n",
    "\n",
    "Add a mapping to the bookStore `HashMap` you made above, use the `put()` method:"
   ]
  },
  {
   "cell_type": "code",
   "execution_count": 3,
   "metadata": {},
   "outputs": [],
   "source": [
    "// add the following Mappings to the HashMap bookStore, where the authors are the keys and the book names are the values:\n",
    "// Jane Austen ,Pride and Prejudice \n",
    "//  Harper Lee, To Kill a Mockingbird\n",
    "// Mary Shelley, Frankenstein \n",
    "\n",
    "\n",
    "\n"
   ]
  },
  {
   "cell_type": "markdown",
   "metadata": {},
   "source": [
    "#### Change An element\n",
    "\n",
    "- To change an element at a specific index: `put(key, value)`\n",
    "\n",
    "This simply replaces the old value of the key with a new value.   \n",
    "\n",
    "Change the book name associate with \"Jane Austen\" to \"Emma\"."
   ]
  },
  {
   "cell_type": "code",
   "execution_count": null,
   "metadata": {},
   "outputs": [],
   "source": [
    "\n",
    "\n",
    "\n"
   ]
  },
  {
   "cell_type": "markdown",
   "metadata": {},
   "source": [
    "#### Removing Elements\n",
    "\n",
    "To remove a value using it's key in a `HashMap`: `remove(Object key)`\n",
    "\n",
    "Remove the pair that has John Steinbeck as the key from the bookStore `HashMap`:"
   ]
  },
  {
   "cell_type": "code",
   "execution_count": null,
   "metadata": {},
   "outputs": [],
   "source": [
    "// modify bookStore `HashMap` to remove the value John Steinbeck using the key The Grapes Of Wrath: \n",
    "\n"
   ]
  },
  {
   "cell_type": "markdown",
   "metadata": {},
   "source": [
    "#### Iterate Through an HashMap \n",
    "\n",
    "Use an enhanced for loop to iterate through the elements of the  `HashMap`.\n",
    "Use the   `keySet()` method to obtain the Set of keys, then iterate through that and get each element.\n",
    "There is an example of this in the [Collections wiki page](http://localhost:3000/en/dataStructures/dataStructures/collections).\n",
    "\n",
    "Iterate through the keys of the bookStore `HashMap`  and print out each book title and author in a nicely formatted fashion."
   ]
  },
  {
   "cell_type": "code",
   "execution_count": null,
   "metadata": {},
   "outputs": [],
   "source": [
    "\n",
    "    \n",
    "    "
   ]
  },
  {
   "cell_type": "markdown",
   "metadata": {},
   "source": [
    "It is possible to get just a set of values from the `HashMap` using the `values()` method.\n",
    "\n",
    "**Example of looping through `HashMap` values:** `for (String values : map.values()) { // code }`\n",
    "\n",
    "Use the values method to obtain the values and print only the names of the books in the map."
   ]
  },
  {
   "cell_type": "code",
   "execution_count": 4,
   "metadata": {},
   "outputs": [],
   "source": [
    "\n",
    "    \n",
    "    "
   ]
  },
  {
   "cell_type": "markdown",
   "metadata": {},
   "source": [
    "\n"
   ]
  },
  {
   "cell_type": "code",
   "execution_count": null,
   "metadata": {},
   "outputs": [],
   "source": []
  }
 ],
 "metadata": {
  "kernelspec": {
   "display_name": "Java11",
   "language": "java",
   "name": "java"
  },
  "language_info": {
   "codemirror_mode": "text/x-java",
   "file_extension": ".java",
   "mimetype": "",
   "name": "Java",
   "nbconverter_exporter": "",
   "version": "11.0.13"
  }
 },
 "nbformat": 4,
 "nbformat_minor": 4
}
