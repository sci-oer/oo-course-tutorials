{
 "cells": [
  {
   "cell_type": "markdown",
   "metadata": {},
   "source": [
    "### **Custom Exceptions**\n",
    "\n",
    "There are many built in exceptions in java, but often they aren't specific enough. In those kind of cases, we might need custom exceptions to clarify the exact cause of the unexpected event. \n",
    "\n",
    "\n",
    "#### Checked Exception subclasses\n",
    "\n",
    "Checked exceptions are those which must be caught in a try/catch block.   Programmer-created exception classes normally are also checked exceptions.   A custom exception class is created by extending an existing exception class, often just the base `Exception` class.\n",
    "\n",
    "The key advantage of having custom exception classes is to permit the programmer to identify the specific type of exception that has occurred by having multiple catch statements.\n",
    "\n",
    "For example, the class below could be used to indicate a poorly formed file name in some application.\n"
   ]
  },
  {
   "cell_type": "code",
   "execution_count": null,
   "metadata": {},
   "outputs": [],
   "source": [
    "public class InvalidFileNameException extends Exception {\n",
    "    public InvalidFileNameException(String message) {\n",
    "        super(message);\n",
    "    }\n",
    "}"
   ]
  },
  {
   "cell_type": "markdown",
   "metadata": {},
   "source": [
    "create a custom checked exception class that extends `Exception`.\n"
   ]
  },
  {
   "cell_type": "code",
   "execution_count": null,
   "metadata": {},
   "outputs": [],
   "source": [
    "//create your exception class here"
   ]
  },
  {
   "cell_type": "markdown",
   "metadata": {},
   "source": [
    "Now write a simple class with a method that throws your new exception."
   ]
  },
  {
   "cell_type": "code",
   "execution_count": null,
   "metadata": {},
   "outputs": [],
   "source": [
    "public class SimpleClass{\n",
    "    public void aMethod() throws YOURNEWEXCEPTION {\n",
    "        throw YOURNEWEXCEPTION\n",
    "    }\n",
    "    \n",
    "}\n"
   ]
  },
  {
   "cell_type": "markdown",
   "metadata": {},
   "source": [
    "Now write some code that makes an instance of SimpleClass and calls the method.  Use try/catch to catch the exception.\n"
   ]
  },
  {
   "cell_type": "code",
   "execution_count": null,
   "metadata": {},
   "outputs": [],
   "source": [
    "SimpleClass aVariableName = new SimpleClass();\n"
   ]
  },
  {
   "cell_type": "markdown",
   "metadata": {},
   "source": [
    "Custom exception classes can have additional functionality if the programmer desires, but usually they do not.\n"
   ]
  },
  {
   "cell_type": "code",
   "execution_count": null,
   "metadata": {},
   "outputs": [],
   "source": []
  }
 ],
 "metadata": {
  "kernelspec": {
   "display_name": "Java11",
   "language": "java",
   "name": "java"
  },
  "language_info": {
   "codemirror_mode": "text/x-java",
   "file_extension": ".java",
   "mimetype": "",
   "name": "Java",
   "nbconverter_exporter": "",
   "version": "11.0.13"
  }
 },
 "nbformat": 4,
 "nbformat_minor": 4
}
