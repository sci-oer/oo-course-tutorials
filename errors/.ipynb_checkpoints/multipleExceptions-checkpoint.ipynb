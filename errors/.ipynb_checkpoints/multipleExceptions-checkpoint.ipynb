{
 "cells": [
  {
   "cell_type": "markdown",
   "metadata": {},
   "source": [
    "#### Catching Specific Exceptions\n",
    "\n",
    "It is good practice to catch specific exceptions separately from the more generic `Exception` class to allow for error-specific handling.   Catching multiple exceptions is as simple as having multiple catch blocks.\n",
    "\n",
    "\n",
    "The syntax should be as follows :"
   ]
  },
  {
   "cell_type": "code",
   "execution_count": null,
   "metadata": {},
   "outputs": [],
   "source": [
    "try {\n",
    "  // try code block\n",
    "    \n",
    "} catch (ExceptionType1 e1) {\n",
    "  // handle errors here for exceptionType1 \n",
    "    \n",
    "} catch (ExceptionType2 e2) {\n",
    "  // handle errors here for exceptionType2\n",
    "}"
   ]
  },
  {
   "cell_type": "markdown",
   "metadata": {},
   "source": [
    "The code below will throw different exceptions randomly.  This will allow you to practice catching multiple exceptions.\n",
    "The code is also a working example of how to throw multiple types of exceptions from a single method.   It would work the same way if the method were not static.\n",
    "\n",
    "You shouldn't need to change the ExceptionThrower class to complete the tutorial.\n"
   ]
  },
  {
   "cell_type": "code",
   "execution_count": null,
   "metadata": {},
   "outputs": [],
   "source": [
    "import javax.swing.text.BadLocationException;\n",
    "public class ExceptionThrower {\n",
    "    public static void throwSomething() throws IOException, AccessDeniedException, BadLocationException, Exception{\n",
    "        int num = (int)(Math.random()*4)+1;  //random number to choose which exception\n",
    "        System.out.println(num);\n",
    "        switch (num){\n",
    "            case 1:\n",
    "                throw new IOException();\n",
    "            case 2: \n",
    "                throw new AccessDeniedException(\"you aren't allowed to do that\");\n",
    "            case 3:\n",
    "                throw new BadLocationException(\"this exception needs a message and an int in the constructor\", 3);\n",
    "            default:\n",
    "                throw new Exception();\n",
    "                \n",
    "        }\n",
    "     \n",
    "    }\n",
    "}"
   ]
  },
  {
   "cell_type": "markdown",
   "metadata": {},
   "source": [
    "Write a snipped of code with try and multiple catch blocks so that it executes the throwSomething method and catches each type of exception separately.  Use the printed number to make sure your catch statements are being used by the correct exception type.\n"
   ]
  },
  {
   "cell_type": "code",
   "execution_count": null,
   "metadata": {},
   "outputs": [],
   "source": [
    "import javax.swing.text.BadLocationException;\n",
    "\n",
    "/* you can call the throwSomething method with this code: ExceptionThrower.throwSomething();*/\n"
   ]
  },
  {
   "cell_type": "code",
   "execution_count": null,
   "metadata": {},
   "outputs": [],
   "source": [
    "try {\n",
    "  // try code block\n",
    "    \n",
    "} catch (ExceptionType e) {\n",
    "  // handle errors here for exceptionType \n",
    "    \n",
    "} catch (Exception e) {\n",
    "  // handle errors here for exception\n",
    "}"
   ]
  },
  {
   "cell_type": "markdown",
   "metadata": {},
   "source": [
    "rewrite the try/catch block you wrote above, where the try create a string called str and set to null then  print the following line \"the library has \" + length of the str + \" new mystery novels\". and on a new line print \"10 divided by 0 = \" + 10/0.\n",
    "\n",
    "Then write two catch blocks, one for NullPointerException, where it prints \"NullPointerException has been caught\" if it gets thrown and the other one for Exception, and it should print \"Exception has been caught\" if it occurs.\n",
    "\n",
    "Remember to write the specific exception catch block first!"
   ]
  },
  {
   "cell_type": "code",
   "execution_count": null,
   "metadata": {},
   "outputs": [],
   "source": [
    "// write a try block \n",
    "\n",
    "    // create a string called str and set it to null \n",
    "\n",
    "\n",
    "    // print  \"the library has \" + length of the str + \" new mystery novels\".\n",
    "\n",
    "\n",
    "\n",
    "    // and on a new line print \"10 divided by 0 = \" + 10/0.\n",
    "\n",
    "\n",
    "\n",
    "// write a catch block that catch NullPointerException,\n",
    "\n",
    "    // where it prints \"NullPointerException has been caught\" if it gets thrown \n",
    "\n",
    "\n",
    "\n",
    "// write another catch block for Exception, \n",
    "\n",
    "    // and it should print \"Exception has been caught\" if it occurs.\n",
    "\n"
   ]
  },
  {
   "cell_type": "markdown",
   "metadata": {},
   "source": [
    "You should see a result that looks something like: NullPointerException has been caught\n"
   ]
  },
  {
   "cell_type": "code",
   "execution_count": null,
   "metadata": {},
   "outputs": [],
   "source": [
    "// create public void sentences() method that throws NullPointerException, and ArithmeticException using `throws` keyword in header \n",
    "\n",
    "    \n",
    "    // create a string called str and set it to null \n",
    "\n",
    "\n",
    "    // print \"the library has \" + length of the str + \" new mystery novels\".\n",
    "\n",
    "\n",
    "\n",
    "    // and on a new line print \"10 divided by 0 = \" + 10/0.\n",
    "     \n"
   ]
  },
  {
   "cell_type": "code",
   "execution_count": null,
   "metadata": {},
   "outputs": [],
   "source": []
  }
 ],
 "metadata": {
  "kernelspec": {
   "display_name": "Java11",
   "language": "java",
   "name": "java"
  },
  "language_info": {
   "codemirror_mode": "text/x-java",
   "file_extension": ".java",
   "mimetype": "",
   "name": "Java",
   "nbconverter_exporter": "",
   "version": "11.0.13"
  }
 },
 "nbformat": 4,
 "nbformat_minor": 4
}
