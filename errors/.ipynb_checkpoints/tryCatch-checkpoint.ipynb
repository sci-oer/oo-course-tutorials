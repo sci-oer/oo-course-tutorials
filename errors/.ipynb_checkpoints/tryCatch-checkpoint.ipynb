{
 "cells": [
  {
   "cell_type": "markdown",
   "metadata": {},
   "source": [
    "###  Exception Handling with `try` and `catch`\n",
    "`try` - executes a block of code that might throw an exception\n",
    "\n",
    "`catch` - a block of code that only executes if an exce-t90j occured in the `try` block.\n",
    "\n",
    "---\n",
    "Run the snippet of code below.  The output should be the number 7.   Then run it again after changing the value of the variable `second` to be 0;     Dividing by zero throws an exception and results in the catch block being executed.  \n",
    "Change the exception handler to call the getMessage() method of the exception so that you can see what kind of exception is being thrown."
   ]
  },
  {
   "cell_type": "code",
   "execution_count": null,
   "metadata": {},
   "outputs": [],
   "source": [
    "int first = 14;\n",
    "int second = 2;\n",
    "try{\n",
    "    System.out.println(first/second);\n",
    "}catch(Exception ex){\n",
    "    System.out.println(\"oops\");\n",
    "}"
   ]
  },
  {
   "cell_type": "markdown",
   "metadata": {},
   "source": [
    "A `FileNotFoundException` is one of the built in exceptions in Java.   A ``FileNotFoundException` when you try to open a file that isn't where you said it would be.  \n",
    "\n",
    "The code below will throw an exception because the file it is trying to open is not in the current directory.\n",
    "change the code so that changes the name of the file to one you have uploaded to the current directory and then loops back to the top to try again.  You will need to add a loop and a stop condition.\n"
   ]
  },
  {
   "cell_type": "code",
   "execution_count": null,
   "metadata": {},
   "outputs": [],
   "source": [
    "   String filename = \"test.txt\";\n",
    "    try {\n",
    "      BufferedReader myReader = new BufferedReader(new FileReader(filename));\n",
    "      String oneLine = myReader.readLine();\n",
    "      System.out.println(oneLine);\n",
    "      myReader.close();\n",
    "    } catch (IOException e) {\n",
    " \n",
    "      System.out.println(\"found an exception\");\n",
    "    }\n"
   ]
  },
  {
   "cell_type": "code",
   "execution_count": null,
   "metadata": {},
   "outputs": [],
   "source": [
    "// create a try block that print the result of 10 divided by 0\n",
    "\n",
    "\n",
    "\n",
    "// create a catch block with the parameter e of type Exception \n",
    "// inside the catch code block print \"An Exception has been Caught\" using System.out.println().\n",
    "\n",
    "\n"
   ]
  },
  {
   "cell_type": "markdown",
   "metadata": {},
   "source": [
    "You should see a result that looks something like: An Exception has been Caught"
   ]
  },
  {
   "cell_type": "code",
   "execution_count": null,
   "metadata": {},
   "outputs": [],
   "source": []
  }
 ],
 "metadata": {
  "kernelspec": {
   "display_name": "Java11",
   "language": "java",
   "name": "java"
  },
  "language_info": {
   "codemirror_mode": "text/x-java",
   "file_extension": ".java",
   "mimetype": "",
   "name": "Java",
   "nbconverter_exporter": "",
   "version": "11.0.13"
  }
 },
 "nbformat": 4,
 "nbformat_minor": 4
}
