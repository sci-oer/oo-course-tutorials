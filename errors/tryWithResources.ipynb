{
 "cells": [
  {
   "cell_type": "markdown",
   "metadata": {},
   "source": [
    "### Ensuring resources are closed\n",
    "There are two ways to ensure that resources are properly closed.  One is to use a `finally` block in conjunction with the try/catch.  Modify the code shown below so that it opens a file, reads and prints all of the lines in the file, and then closes the file in the finally block.  You'll have to upload the file to the directory so that the REPL can find it.\n"
   ]
  },
  {
   "cell_type": "code",
   "execution_count": null,
   "metadata": {},
   "outputs": [],
   "source": [
    "try {\n",
    "  // try code block \n",
    "    \n",
    "} catch (Exception e) {\n",
    "  // error handling here \n",
    "    \n",
    "} finally {\n",
    "  // finally block always executes\n",
    "    \n",
    "}"
   ]
  },
  {
   "cell_type": "markdown",
   "metadata": {},
   "source": [
    "### Try with resources\n",
    "\n",
    "The second way to ensure that resources are properly closed is to open the resource as part of the `try` statement.  Java will ensure that resources opened in this fashion are closed before execution moves on to other parts of the program.\n",
    "\n",
    "The modified try statement might look something like this:\n",
    "`try (BufferedReader myReader = Files.newBufferedReader(path)) `\n",
    "\n",
    "complete the code below using try with resources to open a file and read a line."
   ]
  },
  {
   "cell_type": "code",
   "execution_count": null,
   "metadata": {},
   "outputs": [],
   "source": [
    "Path path = FileSystems.getDefault().getPath(\"test.txt\");\n"
   ]
  },
  {
   "cell_type": "code",
   "execution_count": null,
   "metadata": {},
   "outputs": [],
   "source": [
    "// declare variable number of type int and set it to 0\n",
    "// create a try block that set variable number to the result of 20 divided by 10.\n",
    "\n",
    "\n",
    "\n",
    "// create a catch block, with a print statement that says \"An Exception has been Caught\" using `System.out.println()`.\n",
    "\n",
    "\n",
    "//  create a finally block that prints the following:  \"20 divided by 10 equals \" + variable number"
   ]
  },
  {
   "cell_type": "code",
   "execution_count": null,
   "metadata": {},
   "outputs": [],
   "source": [
    "// create a try block that print the result of 10 divided by 0\n",
    "\n",
    "\n",
    "\n",
    "// create a catch block with the parameter e of type Exception \n",
    "// inside the catch code block print \"An Exception has been Caught\" using System.out.println().\n",
    "\n",
    "\n",
    "// create a finally block that prints the following \"10 divided by 0 is undefined\""
   ]
  },
  {
   "cell_type": "markdown",
   "metadata": {},
   "source": [
    "You should see a result that looks something like: <br> \n",
    "An Exception has been Caught<br>\n",
    "10 divided by 0 is undefined<br>"
   ]
  },
  {
   "cell_type": "code",
   "execution_count": null,
   "metadata": {},
   "outputs": [],
   "source": []
  }
 ],
 "metadata": {
  "kernelspec": {
   "display_name": "Java11",
   "language": "java",
   "name": "java"
  },
  "language_info": {
   "codemirror_mode": "text/x-java",
   "file_extension": ".java",
   "mimetype": "",
   "name": "Java",
   "nbconverter_exporter": "",
   "version": "11.0.13"
  }
 },
 "nbformat": 4,
 "nbformat_minor": 4
}
