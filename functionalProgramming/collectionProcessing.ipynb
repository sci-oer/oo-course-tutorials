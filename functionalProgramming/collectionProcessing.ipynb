{
 "cells": [
  {
   "cell_type": "markdown",
   "metadata": {},
   "source": [
    "### **Collection Processing**\n",
    "\n",
    "A Stream allows us to process a collection of elements. Thus, in this tutorial, we will talk about how to use a `Stream`.\n",
    "\n",
    "See ~~ add wiki page link here ~~ for things to know about collection Processing. This page will provide you with some practice in collection Processing."
   ]
  },
  {
   "cell_type": "markdown",
   "metadata": {},
   "source": [
    "#### Create a Stream by Using Existing Collections\n",
    "\n",
    "classes that implements the `java.util.Collection` interface has a `stream()` method which allows you to convert its instances into `Stream` objects:\n",
    "\n",
    "`Stream<type> streamName = listName.stream();`\n",
    "\n",
    "write a code that converts an `ArrayList` of `Integer` objects into a `Stream`:"
   ]
  },
  {
   "cell_type": "code",
   "execution_count": null,
   "metadata": {},
   "outputs": [],
   "source": [
    "import java.util.stream.*;\n",
    "\n",
    "// Create an ArrayList of type integer called years\n",
    "\n",
    "\n",
    "// add the years 2001, 2003, and 2005 to the arraylist years\n",
    "\n",
    "\n",
    "\n",
    "// Convert it into a Stream\n",
    "\n"
   ]
  },
  {
   "cell_type": "markdown",
   "metadata": {
    "tags": []
   },
   "source": [
    "#### Create a Stream by Using the Stream Method\n",
    "\n",
    "- `static Stream of(T... values)`\n",
    "\n",
    "**Parameters:** \n",
    "\n",
    "- `values` : elements of the new stream.\n",
    "\n",
    "**returns:** stream whose elements are the specified values.\n",
    "\n",
    "rewrite the code  above that it uses the `Stream.of()` method to add the following languages: C,Java, Python to the Stream"
   ]
  },
  {
   "cell_type": "code",
   "execution_count": null,
   "metadata": {},
   "outputs": [],
   "source": [
    "import java.util.stream.*;\n",
    "// use the Stream.of() method to add the following names languages to the Stream\n",
    "\n"
   ]
  },
  {
   "cell_type": "markdown",
   "metadata": {},
   "source": [
    "#### Intermediate Operations:\n",
    "\n",
    "**filter** \n",
    "\n",
    "used to filter elements by specified condition: `Stream<type> newStream =  streamName.filter(predicate);`\n",
    "\n",
    "- `predicate` is a lambda expression that is used to filter the elements based on it's condition"
   ]
  },
  {
   "cell_type": "code",
   "execution_count": null,
   "metadata": {},
   "outputs": [],
   "source": [
    "import java.util.stream.*;\n",
    "// write an statement that uses filter to create a subset of all the elements whose length are more than 2\n",
    "\n"
   ]
  },
  {
   "cell_type": "markdown",
   "metadata": {},
   "source": [
    "**sorted** \n",
    "\n",
    "Used to sort the stream: `Stream<type> streamName = storted();`"
   ]
  },
  {
   "cell_type": "code",
   "execution_count": null,
   "metadata": {},
   "outputs": [],
   "source": [
    "import java.util.stream.*;\n",
    "// sort the languages stream \n",
    "\n"
   ]
  },
  {
   "cell_type": "markdown",
   "metadata": {},
   "source": [
    "**map**\n",
    "\n",
    "Returns a stream consisting of the results of applying the given function to the elements of this stream: `Stream<type> newStream =  streamName.map(mapper);`\n",
    "\n",
    "- `mapper` is a function that is applied to each element "
   ]
  },
  {
   "cell_type": "code",
   "execution_count": null,
   "metadata": {},
   "outputs": [],
   "source": [
    "import java.util.stream.*;\n",
    "// write an statement that uses map to convert all the strings to uppercase\n",
    "\n"
   ]
  },
  {
   "cell_type": "markdown",
   "metadata": {},
   "source": [
    "#### Terminal Operations:\n",
    "**forEach** \n",
    "\n",
    "Used to iterate through every element of the stream: `streamName.forEach(lambda expression);`\n",
    "\n",
    "Lambda expressions has been discussed in the functional interface page : oer_oo_jupyternotes/functionalProgramming/functionalInterfaces/functinal_interface.ipynb\n",
    "\n",
    "- `action` is the action performed for each element"
   ]
  },
  {
   "cell_type": "code",
   "execution_count": null,
   "metadata": {},
   "outputs": [],
   "source": [
    "import java.util.stream.*;\n",
    "// use for each to print the result of the filteredLanguages stream you wrote above:\n",
    "\n"
   ]
  },
  {
   "cell_type": "markdown",
   "metadata": {},
   "source": [
    "You should see result that looks something like this: Java, Python\n",
    "\n",
    "**collect**\n",
    "\n",
    "Return the result of the intermediate operations performed on the stream: `List<type> list = streamName.collect(Collectors.toList());`\n",
    "\n",
    "- `Collectors.toList()` is the `toList()` method of `Collectors` Class returns a `Collector` Interface that collects the input data into a new list."
   ]
  },
  {
   "cell_type": "code",
   "execution_count": null,
   "metadata": {},
   "outputs": [],
   "source": [
    "import java.util.stream.*;\n",
    "// use collect to print the result of the sortedLanguages stream you wrote above:\n",
    "// Convert sortedLanguages Stream to List called sortedList using collect with toList method as parameters\n",
    "\n",
    "\n",
    "// Create an ArrayList called sortedArrayList of the List called sortedList \n",
    "\n",
    "\n",
    "// Print the arraylist sortedArrayList\n"
   ]
  },
  {
   "cell_type": "markdown",
   "metadata": {},
   "source": [
    "You should see result that looks something like this: [C, Java, Python]\n",
    "\n",
    "**reduce**\n",
    "\n",
    "Used to reduce the elements of a stream to a single value: `type varName = streamName.reduce(identityNumber, accumulator);`\n",
    "\n",
    "- identityNumber is the initial value of type `T`\n",
    "\n",
    "- accumulator is a lambda expression for combining two value for instance :`(result, current) -> result + current)`"
   ]
  },
  {
   "cell_type": "code",
   "execution_count": null,
   "metadata": {},
   "outputs": [],
   "source": [
    "import java.util.stream.*;\n",
    "// reduce the elements, where identity is empty string, and the accumulator is + current element\n",
    "\n",
    "\n",
    "// print the resulted String that the reduce method returned\n",
    "\n",
    "\n"
   ]
  },
  {
   "cell_type": "markdown",
   "metadata": {},
   "source": [
    "You should see result that looks something like this: JAVAPYTHONC"
   ]
  },
  {
   "cell_type": "markdown",
   "metadata": {},
   "source": []
  }
 ],
 "metadata": {
  "kernelspec": {
   "display_name": "Java",
   "language": "java",
   "name": "java"
  },
  "language_info": {
   "codemirror_mode": "java",
   "file_extension": ".jshell",
   "mimetype": "text/x-java-source",
   "name": "Java",
   "pygments_lexer": "java",
   "version": "11.0.11+9-Ubuntu-0ubuntu2.20.04"
  }
 },
 "nbformat": 4,
 "nbformat_minor": 4
}
