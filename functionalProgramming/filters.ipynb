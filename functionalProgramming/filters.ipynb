{
 "cells": [
  {
   "cell_type": "markdown",
   "metadata": {},
   "source": [
    "### **Filters**\n",
    "\n",
    "A `Stream` object can be transformed into another `Stream` object using bunch of methods like:\n",
    "\n",
    "1. `map()`\n",
    "2. `reduce()`\n",
    "3. `filter()`\n",
    "\n",
    "See ~~ add wiki page link here ~~ for things to know about filters. This page will provide you with some practice in filters.\n",
    "\n",
    "#### Create a Stream\n",
    "\n",
    "Read the collection Processing page for more instructions and guidance on creating a stream : oer_oo_jupyternotes/functionalProgramming/collectionProcessing/collection_processing.ipynb\n",
    "\n",
    "write code that converts an `ArrayList` of `Integer` objects into a `Stream`:"
   ]
  },
  {
   "cell_type": "code",
   "execution_count": null,
   "metadata": {},
   "outputs": [],
   "source": [
    "import java.util.stream.*;\n",
    "\n",
    "// Create an ArrayList of type integer called years\n",
    "\n",
    "\n",
    "// add the years 2001, 2003, and 2005 to the arraylist years\n",
    "\n",
    "\n",
    "\n",
    "// Convert it into a Stream\n",
    "\n"
   ]
  },
  {
   "cell_type": "markdown",
   "metadata": {},
   "source": [
    "#### The `filter` Method\n",
    "\n",
    "if you want only a subset of the elements, you can use the `filter()` method:\n",
    " \n",
    "`Stream<T> filter(Predicate<? super T> predicate) ` \n",
    "\n",
    "**Parameters:**\n",
    "\n",
    "predicate: a functional interface. So, you can also pass lambda expression here.\n",
    "\n",
    "**returns :** the new stream which has the changed elements.\n",
    "\n",
    "`Stream<type> newStream =  streamName.filter(predicate);`\n",
    "\n",
    "write an example that uses filter to create a subset of all the arraylist elements that are larger than 2001"
   ]
  },
  {
   "cell_type": "code",
   "execution_count": null,
   "metadata": {},
   "outputs": [],
   "source": [
    "// write a statement that uses filter to create a subset of all the arraylist elements that are larger than 2001\n",
    "\n"
   ]
  },
  {
   "cell_type": "markdown",
   "metadata": {},
   "source": [
    "The `Stream` object returned contains the changed Integers. To convert it into an arraylist, you use `toList()` method:\n",
    "\n",
    "`List<type> list = streamName.collect(Collectors.toList());`\n",
    "\n",
    "Write a code that converts `updatedYearsStream` into an `Arraylist`:"
   ]
  },
  {
   "cell_type": "code",
   "execution_count": null,
   "metadata": {},
   "outputs": [],
   "source": [
    "// Convert Stream to List called list\n",
    "\n",
    "  \n",
    "// Create an ArrayList called newYears of the List called list\n",
    "\n",
    "\n",
    "// Print the arraylist newYears\n"
   ]
  },
  {
   "cell_type": "markdown",
   "metadata": {},
   "source": [
    "You should see a result that looks something like: <br>\n",
    "\n",
    "ArrayList: [2003, 2005]\n",
    "\n",
    "There is another way to write this code, and that is without storing references to intermediate `Stream` objects:\n",
    "\n",
    "`List<Integer> newList = listName.stream().filter(Predicate).collect(Collectors.toList());`\n",
    "\n",
    "Rewrite the code three blocks of code above so it uses this way instead:"
   ]
  },
  {
   "cell_type": "code",
   "execution_count": null,
   "metadata": {},
   "outputs": [],
   "source": [
    "import java.util.stream.*;\n",
    "\n",
    "// Create an ArrayList of type integer called years\n",
    "\n",
    "\n",
    "// add the years 2001, 2003, and 2005 to the arraylist years\n",
    "\n",
    "\n",
    "// write line of code that uses stream(), filter() and collect(collectors.toList()) to convert a list to a stream, filter it then back to a list\n",
    "\n",
    "\n",
    "// Create an ArrayList called newYears of the List called list\n",
    "\n",
    "\n",
    "// Print the following: \"ArrayList:\" + arraylist newYears\n"
   ]
  },
  {
   "cell_type": "markdown",
   "metadata": {},
   "source": [
    "You should see a result that looks something like: <br>\n",
    "\n",
    "ArrayList: [2003, 2005]"
   ]
  },
  {
   "cell_type": "code",
   "execution_count": null,
   "metadata": {},
   "outputs": [],
   "source": []
  }
 ],
 "metadata": {
  "kernelspec": {
   "display_name": "Java",
   "language": "java",
   "name": "java"
  },
  "language_info": {
   "codemirror_mode": "java",
   "file_extension": ".jshell",
   "mimetype": "text/x-java-source",
   "name": "Java",
   "pygments_lexer": "java",
   "version": "11.0.11+9-Ubuntu-0ubuntu2.20.04"
  }
 },
 "nbformat": 4,
 "nbformat_minor": 4
}
