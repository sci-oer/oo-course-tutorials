{
 "cells": [
  {
   "cell_type": "markdown",
   "metadata": {},
   "source": [
    "### **File input Using BufferedReader and Path**\n",
    "\n",
    "In this tutorial, we will learn how to read from files. Some different ways you can read from files:\n",
    "- Using `BufferedReader` class\n",
    "- With the `Files.readAllLines()` method from the `Files` class\n",
    "- Using the `Files.newBufferedReader(path)` method from the `Files` class\n",
    "        \n",
    "In this tutorial we will read a file that exists in the folder with the jupyter tutorial using the third method noted above.\n",
    "\n",
    "The code below will read one line from the file `sample.txt` and print it out.  Modify the code so that it reads a file that is in the assets subfolder (you'll need to make that subfolder and put a file in it). \n",
    "\n",
    "When that is working, add a loop to the program so that it reads the entire file.  The following code snippet might help you.\n",
    "```\n",
    "    String oneLine= myReader.readLine();\n",
    "    while(oneLine != null){\n",
    "      System.out.println(oneLine);\n",
    "      //get the next line from the file here\n",
    "}\n",
    "```"
   ]
  },
  {
   "cell_type": "code",
   "execution_count": 6,
   "metadata": {},
   "outputs": [
    {
     "name": "stdout",
     "output_type": "stream",
     "text": [
      "Lizzy had a lion with a big bad roar\n"
     ]
    },
    {
     "data": {
      "text/plain": [
       "null"
      ]
     },
     "execution_count": 6,
     "metadata": {},
     "output_type": "execute_result"
    }
   ],
   "source": [
    "import java.io.BufferedReader;\n",
    "import java.io.FileReader;\n",
    "import java.nio.file.Path;\n",
    "import java.nio.file.Files;\n",
    "import java.nio.file.FileSystems;\n",
    "import java.io.IOException;    \n",
    "String location = \"assets\";\n",
    "String fileName = \"sample.txt\";\n",
    "Path path = Paths.get(fileName);\n",
    "try {\n",
    "      BufferedReader myReader = Files.newBufferedReader(path);\n",
    "      String oneLine = myReader.readLine();\n",
    "      System.out.println(oneLine);\n",
    "      myReader.close();\n",
    "    } catch (IOException e) {\n",
    "      //terrible exception handler\n",
    "      System.out.println(e.getMessage());\n",
    "    }\n",
    "\n",
    "\n"
   ]
  },
  {
   "cell_type": "markdown",
   "metadata": {},
   "source": []
  },
  {
   "cell_type": "code",
   "execution_count": null,
   "metadata": {},
   "outputs": [],
   "source": []
  }
 ],
 "metadata": {
  "kernelspec": {
   "display_name": "Java11",
   "language": "java",
   "name": "java"
  },
  "language_info": {
   "codemirror_mode": "text/x-java",
   "file_extension": ".java",
   "mimetype": "",
   "name": "Java",
   "nbconverter_exporter": "",
   "version": "11.0.13"
  }
 },
 "nbformat": 4,
 "nbformat_minor": 4
}
