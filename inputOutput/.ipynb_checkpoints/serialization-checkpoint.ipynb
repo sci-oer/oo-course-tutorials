{
 "cells": [
  {
   "cell_type": "markdown",
   "id": "d3c3476e-c293-43aa-b7ab-5463e82c746b",
   "metadata": {},
   "source": [
    "### A serializable class\n",
    "\n",
    "In order to experiment with serialization you must first create a class that is serializable.    Complete the skeleton class started below so that it implements the `Serializable` interface. "
   ]
  },
  {
   "cell_type": "code",
   "execution_count": null,
   "id": "2bd295ca-a063-4e64-a6df-b0550e9ff00b",
   "metadata": {},
   "outputs": [],
   "source": [
    "public class SDemo implements java.io.Serializable{\n",
    "    /* serialization UID: the value is unimportant for this demo.  \n",
    "    usually you'd generate this with an IDE or serialver */\n",
    "    private static final long serialVersionUID = 12394; \n",
    "    \n",
    "    // create at least two more private instance variables\n",
    "    private String someStringVal;\n",
    "    \n",
    "    \n",
    "    //write a constructor if you wish.  Not absolutely necessary\n",
    "    \n",
    "    //write a public setter and getter for each of the instance variables\n",
    "    public void setStringVal(String theVal){\n",
    "        someStringVal = theVal;\n",
    "    }\n",
    "    public String getStringVal(){\n",
    "        return someStringVal;\n",
    "    }\n",
    "    \n",
    "        \n",
    "}"
   ]
  },
  {
   "cell_type": "markdown",
   "id": "eff72bab-de8f-426a-996e-51c8c6e331b7",
   "metadata": {},
   "source": [
    "Now create a few instances of your class and use the setters/getters to make sure it is working."
   ]
  },
  {
   "cell_type": "code",
   "execution_count": null,
   "id": "668e6e4e-d8d1-4837-a006-d08656f980e2",
   "metadata": {},
   "outputs": [],
   "source": [
    "SDemo testerOne = new SDemo();\n",
    "testerOne.setStringVal(\"Baby Shark\");\n",
    "System.out.println(testerOne.getStringVal());"
   ]
  },
  {
   "cell_type": "markdown",
   "id": "1add6157-52dd-453d-9628-b1af4da87c2f",
   "metadata": {},
   "source": [
    "#### Serializing objects\n",
    "\n",
    "Once you have some objects created, you can serialize them into a file.    In the code below experiment with changing the file name and one by one serializing each of the objects you created in the last step.  You don't have to recreate them in the code below as long as you have run code in earlier steps to create the objects.\n",
    "\n",
    "Create a new file for each object you serialize.  You should see the files appear in the  file view on the left hand of the screen."
   ]
  },
  {
   "cell_type": "code",
   "execution_count": null,
   "id": "93f598af-12a2-4972-a07d-e95b84fece55",
   "metadata": {},
   "outputs": [],
   "source": [
    " String filename = \"aNameIMadeUp.someEnding\";    \n",
    "\n",
    "try {  //as with most IO you must catch exceptions\n",
    "      \n",
    "      FileOutputStream outPutStream = new FileOutputStream(filename);\n",
    "      ObjectOutputStream outPutDest = new ObjectOutputStream(outPutStream);\n",
    "\n",
    "      // Method for serialization of object\n",
    "      outPutDest.writeObject(testerOne);\n",
    "\n",
    "      outPutDest.close();\n",
    "      outPutStream.close();\n",
    "\n",
    "      System.out.println(\"Object has been serialized\");\n",
    "    } catch (IOException ex) {\n",
    "      System.out.println(ex);\n",
    "    }\n",
    "  "
   ]
  },
  {
   "cell_type": "markdown",
   "id": "0371f242-733d-45d9-8984-bb499bfc5a5d",
   "metadata": {},
   "source": [
    "### Reading in the objects\n",
    "\n",
    "Once you have serialized the objects and have a file name for each object,  modify the code below so that you can read in one of your objects.   If you want to prove to yourself that you are loading from file and not using objects in memory, try restarting the kernel for this page or clearing all of the outputs.\n"
   ]
  },
  {
   "cell_type": "code",
   "execution_count": null,
   "id": "bac6d32e-064e-4ed8-b7b9-bc650458ec19",
   "metadata": {},
   "outputs": [],
   "source": [
    "String filename = \"aNameIMadeUp.someEnding\";  //put your filename here\n",
    "SDemo myReadInObject = null;\n",
    "/*this is an example of **try with resources** which closes the files for you\n",
    "This code also demonstrates how to react differently to different exceptions */\n",
    "try (ObjectInputStream in = new ObjectInputStream(new FileInputStream(filename));) {\n",
    "      // Method for deserialization of object\n",
    "      myReadInObject = (SDemo) in.readObject();\n",
    "\n",
    "      System.out.println(\"Object has been deserialized \");\n",
    "    /* use instance getter methods here to prove you have the right object */\n",
    "      System.out.println(myReadInObject.getStringVal());\n",
    "    } catch (IOException ex) {\n",
    "      System.out.println(\"IOException is caught \" + ex);\n",
    "    } catch (ClassNotFoundException ex) {\n",
    "      System.out.println(\"ClassNotFoundException is caught \" + ex);\n",
    "    }"
   ]
  },
  {
   "cell_type": "code",
   "execution_count": null,
   "id": "d896acf7-016b-405b-b47d-f9a5e32fa493",
   "metadata": {},
   "outputs": [],
   "source": []
  }
 ],
 "metadata": {
  "kernelspec": {
   "display_name": "Java11",
   "language": "java",
   "name": "java"
  },
  "language_info": {
   "codemirror_mode": "text/x-java",
   "file_extension": ".java",
   "mimetype": "",
   "name": "Java",
   "nbconverter_exporter": "",
   "version": "11.0.13"
  }
 },
 "nbformat": 4,
 "nbformat_minor": 5
}
