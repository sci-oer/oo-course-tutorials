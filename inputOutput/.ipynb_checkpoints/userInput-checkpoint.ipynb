{
 "cells": [
  {
   "cell_type": "markdown",
   "metadata": {
    "tags": []
   },
   "source": [
    "### **User Input**\n",
    "\n",
    "The Scanner class is used to get user input, and it is found in the `java.util` package.\n",
    "\n",
    "\n",
    "\n",
    "Lets practice getting user input with the scanner.  First you'll need to import the Scanner class (`import java.util.Scanner;`  and then create a reference variable and a scanner object.\n",
    "\n",
    "`Scanner keyboardScanner = new Scanner(System.in);`\n",
    "\n",
    "We will use the `nextLine()` method to read keyboard input: `String userInput = myObj.nextLine();`"
   ]
  },
  {
   "cell_type": "code",
   "execution_count": null,
   "metadata": {},
   "outputs": [],
   "source": [
    "// Write a code that asks for username and outputs it using `System.out.println`.\n",
    "    \n",
    "// Import the Scanner class\n",
    "\n",
    "// Create a Scanner object\n",
    "    \n",
    "// prompt the user to enter their name \"What's your name?\"\n",
    "\n",
    "// Read user input\n",
    "\n",
    "// Output user input \"your name is %s\""
   ]
  },
  {
   "cell_type": "markdown",
   "metadata": {},
   "source": [
    "You should see a result that looks something like: <br>\n",
    "What's your name?<br>\n",
    "yourInput<br>\n",
    "your name is yourInput<br>\n",
    "\n",
    "\n",
    "The Scanner class can also be used to search forward through the stream looking for the next input of a particular type.  It stops looking when it gets to a newline character.\n",
    "\n",
    "Two methods that can be used are `nextInt()` and `nextDouble()`\n",
    "\n",
    "```\n",
    "   keyboardScanner.nextInt();\n",
    "   keyboardScanner.nextDouble();\n",
    "```    \n",
    "\n",
    "Those two methods throw exceptions that must be caught.  \n",
    "\n",
    "```\n",
    "try {\n",
    "    int input = keyboardScanner.nextInt();\n",
    "} catch (Exception e) {\n",
    "   System.out.println(e.getMessage()); //not a good exception handling strategy\n",
    "  }\n",
    "\n",
    "```\n",
    "Jupyterlab is erratic in how it handles calls to System.in.  You will likely have more success in experimenting with the Scanner class by writing a full program instead."
   ]
  }
 ],
 "metadata": {
  "kernelspec": {
   "display_name": "Java11",
   "language": "java",
   "name": "java"
  },
  "language_info": {
   "codemirror_mode": "text/x-java",
   "file_extension": ".java",
   "mimetype": "",
   "name": "Java",
   "nbconverter_exporter": "",
   "version": "11.0.13"
  }
 },
 "nbformat": 4,
 "nbformat_minor": 4
}
