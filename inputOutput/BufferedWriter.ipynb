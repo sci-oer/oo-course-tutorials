{
 "cells": [
  {
   "cell_type": "markdown",
   "metadata": {},
   "source": [
    "### **File output using BufferedWriter**\n",
    "\n",
    "When writing to a file you can create a new file, which will overwrite any existing file, or you can append to an existing file.  We will experiment with both in this tutorial.\n",
    "\n",
    "\n",
    "\n",
    "####  Writing a new file\n",
    "\n",
    "Choose any children's rhyme you know and write it, line by line into a file called rhyme.txt.\n",
    "\n",
    "You can use the `FileSystems` class to get a path to a file that will be written in the current tutorial directory.  Once you run the code you'll see the filename show up in the left hand file list.\n",
    "\n",
    "```\n",
    "Path path = FileSystems.getDefault().getPath(fileName);\n",
    "```\n",
    "Try it once writing a single line of text to the file.    You can [look back at the wiki page](http://localhost:3000/inputOutput/textFiles) for a refresher on creating the Buffered Reader."
   ]
  },
  {
   "cell_type": "code",
   "execution_count": null,
   "metadata": {},
   "outputs": [],
   "source": [
    "import java.io.BufferedWriter;\n",
    "import java.io.FileWriter;\n",
    "import java.nio.file.Path;\n",
    "import java.nio.file.Files;\n",
    "import java.nio.file.FileSystems;\n",
    "import java.util.List;\n",
    "import java.io.IOException;\n",
    "import java.nio.file.StandardOpenOption;\n",
    "\n",
    "//set the filename and get the path\n",
    "\n",
    "try {\n",
    "    //create a new buffered writer\n",
    "\n",
    "    // write to the file\n",
    "\n",
    "    // close the file\n",
    "\n",
    "    } catch (IOException e) {\n",
    "      //we'll learn to write better exception handlers soon\n",
    "      System.out.println(e.getMessage());\n",
    "    }\n"
   ]
  },
  {
   "cell_type": "markdown",
   "metadata": {},
   "source": [
    "Now write the block of code that will append to the file instead of overwriting it. \n",
    "\n",
    "To open a file for appending you must tell Java that you wish to append to the file.  \n",
    "`BufferedReader myReader = Files.newBufferedReader(path,StandardOpenOption.APPEND)`\n",
    "All of the options available are found in the [StandardOpenOption](http://localhost:8000/api/java.base/java/nio/file/StandardOpenOption.html) class\n",
    "\n",
    "Three options you are likely to use include:\n",
    "\n",
    "- `StandardOpenOption.CREATE`\n",
    "- `StandardOpenOption.CREATE_NEW` this option fails if the file exists\n",
    "- `StandardOpenOption.APPEND`"
   ]
  },
  {
   "cell_type": "code",
   "execution_count": null,
   "metadata": {},
   "outputs": [],
   "source": [
    "import java.io.BufferedWriter;\n",
    "import java.io.FileWriter;\n",
    "import java.nio.file.Path;\n",
    "import java.nio.file.Files;\n",
    "import java.nio.file.FileSystems;\n",
    "import java.util.List;\n",
    "import java.io.IOException;\n",
    "import java.nio.file.StandardOpenOption;\n",
    "//the code is almost identical to the first cell.  \n",
    "// can you get your appended words onto their own line in the file?\n",
    "\n"
   ]
  },
  {
   "cell_type": "markdown",
   "metadata": {},
   "source": [
    "It is also possible to write directly to a file using the `Files` class without opening the file first using the `Files.writeString()` method.\n",
    "\n",
    "\n",
    "To use this method of writing to file you specify if you wish to append to the file.   The options available are found in the [StandardOpenOption](http://localhost:8000/api/java.base/java/nio/file/StandardOpenOption.html) class\n",
    "\n",
    "\n",
    "```\n",
    "Files.writeString(path,\"the first line of the file \\n\");\n",
    "Files.writeString(path,\"the second thing, note the use of append option\", StandardOpenOption.APPEND);\n",
    "```\n",
    "\n",
    "Use this method to append another line to your rhyme.txt file"
   ]
  },
  {
   "cell_type": "code",
   "execution_count": null,
   "metadata": {},
   "outputs": [],
   "source": []
  },
  {
   "cell_type": "code",
   "execution_count": null,
   "metadata": {},
   "outputs": [],
   "source": []
  }
 ],
 "metadata": {
  "kernelspec": {
   "display_name": "Java11",
   "language": "java",
   "name": "java"
  },
  "language_info": {
   "codemirror_mode": "text/x-java",
   "file_extension": ".java",
   "mimetype": "",
   "name": "Java",
   "nbconverter_exporter": "",
   "version": "11.0.13"
  }
 },
 "nbformat": 4,
 "nbformat_minor": 4
}
