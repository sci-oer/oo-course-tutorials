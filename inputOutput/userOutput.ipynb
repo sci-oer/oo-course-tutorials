{
 "cells": [
  {
   "cell_type": "markdown",
   "metadata": {
    "tags": []
   },
   "source": [
    "### **Display Output To User**\n",
    "\n",
    "`System.out` is used to provide output to the user of a program for development and learning purposes.  Production code usually establishes different output streams.\n",
    "\n",
    "Three methods are commonly used: \n",
    "\n",
    "1. `print()`   prints string inside the quotes.\n",
    "2. `println()` prints string inside the quotes followed by a newline character\n",
    "4. `printf()`  formats a string using codes similar to `printf` in C\n",
    "\n",
    "Instantiate a String variable and assign it a value.   Use all three methods for printing to print out the variable along with some other text.  Ensure you understand how the methods work and the diffrences between them.\n",
    "```\n",
    "System.out.print(parameter);\n",
    "System.out.println(parameter);\n",
    "System.out.printf(formatString, parameters);\n",
    "```"
   ]
  },
  {
   "cell_type": "code",
   "execution_count": null,
   "metadata": {},
   "outputs": [],
   "source": [
    "//experiment with all three methods here\n",
    "\n"
   ]
  },
  {
   "cell_type": "markdown",
   "metadata": {},
   "source": [
    "### String Composition\n",
    "Strings can be composed with  `+`, the `concat()` method or using a [StringBuilder](http://localhost:8000/api/java.base/java/lang/StringBuilder.html) instance.\n",
    "\n",
    "Concatenate the variables shown in the cell below  with additional string literals to create the string \"One dog is fun but 3 dogs are better!\".  Try all three methods of string composition."
   ]
  },
  {
   "cell_type": "code",
   "execution_count": null,
   "metadata": {},
   "outputs": [],
   "source": [
    "String dog = \"dog\";\n",
    "String verb = \"fun\";\n",
    "int quantity = 3;\n",
    "//compose a string with `+`\n",
    "System.out.println( your composed string here)\n",
    "//compose a string with `concat`\n",
    "System.out.println(your composed string here)\n",
    "//compose a string with StringBuilder\n",
    "StringBuilder stringBuild = new StringBuilder(put a base string here)\n",
    "    //call StringBuilder methods such as append and insert\n",
    "System.out.println(your composed string here)"
   ]
  },
  {
   "cell_type": "code",
   "execution_count": null,
   "metadata": {},
   "outputs": [],
   "source": []
  }
 ],
 "metadata": {
  "kernelspec": {
   "display_name": "Java11",
   "language": "java",
   "name": "java"
  },
  "language_info": {
   "codemirror_mode": "text/x-java",
   "file_extension": ".java",
   "mimetype": "",
   "name": "Java",
   "nbconverter_exporter": "",
   "version": "11.0.13"
  }
 },
 "nbformat": 4,
 "nbformat_minor": 4
}
