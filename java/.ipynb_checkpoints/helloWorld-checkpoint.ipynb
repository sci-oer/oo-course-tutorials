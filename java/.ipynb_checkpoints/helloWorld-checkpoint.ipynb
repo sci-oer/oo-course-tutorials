{
 "cells": [
  {
   "cell_type": "markdown",
   "metadata": {
    "tags": []
   },
   "source": [
    "### Hello World in Java\n",
    "\n",
    "[Java Syntax Guide](localhost:3000/java/syntaxGuide)\n",
    "\n",
    "\n",
    "\n",
    "#### Procedural Hello World\n",
    "\n",
    "Writing the procedural version of hello world in Java will give you an introduction to java syntax,but does not really help you understand object oriented programming.  It is still worth doing.\n",
    "\n",
    "Start by defining a class:  ``` public class HelloWorld ``` in the cell below.  Don't forget the opening and closing braces. By convention names of classes start with an uppercase letter.   You can 'run' your class now, but nothing should happen.\n"
   ]
  },
  {
   "cell_type": "code",
   "execution_count": 1,
   "metadata": {},
   "outputs": [
    {
     "data": {
      "text/plain": [
       "null"
      ]
     },
     "execution_count": 1,
     "metadata": {},
     "output_type": "execute_result"
    }
   ],
   "source": [
    "// declare the helloworld class here\n"
   ]
  },
  {
   "cell_type": "markdown",
   "metadata": {
    "tags": []
   },
   "source": [
    "Because we are writing a procedural version, the only method in this class will be the required main method for running the class.\n",
    "Add the main method to your class now.  Don't forget the curly braces.\n",
    "```public static void main(String[] args)```\n",
    "\n",
    "Finally, add the statement to the main method that prints out hello world. \n",
    "\n",
    "``` System.out.println(\"Hello World\");```\n",
    "Java insists on end of line semicolons.\n",
    "\n",
    "Now when you run your code, you should see it printing out Hello World.   Can you change it so that it prints out something else?\n",
    "Can you add another line to it so that it prints two things?\n",
    "\n"
   ]
  },
  {
   "cell_type": "markdown",
   "metadata": {},
   "source": [
    "## Object Oriented Hello World\n",
    "\n",
    "To create an OO version of hello world, we need a class defined to contain the message and then we need a main method that utilizes that class.   It seems complicated for something as simple as hello world, but it will help you understand how objects are used.\n",
    "\n",
    "The HelloWorld class is defined for you below.  We'll focus on using the class in this tutorial.\n",
    "\n",
    "\n"
   ]
  },
  {
   "cell_type": "code",
   "execution_count": 2,
   "metadata": {},
   "outputs": [
    {
     "data": {
      "text/plain": [
       "null"
      ]
     },
     "execution_count": 2,
     "metadata": {},
     "output_type": "execute_result"
    }
   ],
   "source": [
    "public class HelloWorld {\n",
    "    private String message;  //instance variable\n",
    "\n",
    "    public HelloWorld(String theMessage) { //constructor\n",
    "                message = theMessage;\n",
    "    }\n",
    "\n",
    "      public void sayHello() { //instance method\n",
    "       System.out.println(message);\n",
    "    }\n",
    "}"
   ]
  },
  {
   "cell_type": "markdown",
   "metadata": {},
   "source": [
    "To use the HelloWorld class you must first 'run' the class in Jupyter.  Then we can create instances of the class and use them.  In Jupyterlab we can skip out on defining the main method because we are working in a REPL (read-eval-print-loop).  Run the class above now if you haven't already done so.\n",
    "\n",
    "To use the class we declare a variable of the same type as the class, assign an instance to the variable, and then call a method."
   ]
  },
  {
   "cell_type": "code",
   "execution_count": 3,
   "metadata": {},
   "outputs": [
    {
     "name": "stdout",
     "output_type": "stream",
     "text": [
      "hello world\n"
     ]
    },
    {
     "data": {
      "text/plain": [
       "null"
      ]
     },
     "execution_count": 3,
     "metadata": {},
     "output_type": "execute_result"
    }
   ],
   "source": [
    "//declare variable\n",
    "HelloWorld aVariable;\n",
    "//assign an instance\n",
    "aVariable = new HelloWorld(\"hello world\");\n",
    "//call a method\n",
    "aVariable.sayHello();"
   ]
  },
  {
   "cell_type": "markdown",
   "metadata": {},
   "source": [
    "Note the use of the ```new``` keyword in the example.  That keyword causes the *constructor* to be executed.  Constructors are used to set up the instance according to the template provided by the class.\n",
    "\n",
    "Try adding a second variable to the code above.  Make a new instance of the HelloWorld class, give it a different message, and then print it out. The easiest way to do this is to create a new version of each line in the example above.  \n"
   ]
  },
  {
   "cell_type": "code",
   "execution_count": null,
   "metadata": {},
   "outputs": [],
   "source": []
  }
 ],
 "metadata": {
  "kernelspec": {
   "display_name": "Java11",
   "language": "java",
   "name": "java"
  },
  "language_info": {
   "codemirror_mode": "text/x-java",
   "file_extension": ".java",
   "mimetype": "",
   "name": "Java",
   "nbconverter_exporter": "",
   "version": "11.0.13"
  }
 },
 "nbformat": 4,
 "nbformat_minor": 4
}
