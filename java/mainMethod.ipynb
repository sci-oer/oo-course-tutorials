{
 "cells": [
  {
   "cell_type": "markdown",
   "metadata": {},
   "source": [
    "### **Main Method**\n",
    "\n",
    "#### Syntax for Main Method\n",
    "`public static void main(String[] args) { }`\n",
    "\n",
    "Add a main method to the class below.   Have it print something.  You can run the method in this REPL environment by just pressing the run button.\n"
   ]
  },
  {
   "cell_type": "code",
   "execution_count": null,
   "metadata": {},
   "outputs": [],
   "source": [
    "public class Runner {\n",
    "   // create a main method \n",
    "\n",
    "\n",
    "}"
   ]
  },
  {
   "cell_type": "markdown",
   "metadata": {},
   "source": [
    "You can  also explicitly call the main method in your class.  Try typing ``` Runner.main(null)``` in the cell below and running it.\n"
   ]
  },
  {
   "cell_type": "code",
   "execution_count": null,
   "metadata": {},
   "outputs": [],
   "source": [
    "Runner.main(null)\n",
    "    "
   ]
  },
  {
   "cell_type": "markdown",
   "metadata": {},
   "source": [
    "We can't directly experiment with command line arguments inside the REPL but you can experiment with passing a String array to the main method.     Revise your main method in the Runner class to print out the String array args.  You can use a for each loop or you can use a for loop.  In Java an array has an instance variable called length that is public so your for loop can be something like ` for(int index = 0; index<args.length; index++)`.\n",
    "\n",
    "After you've revised your main method, try running the code below to see what happens.  Can you explain what you see?"
   ]
  },
  {
   "cell_type": "code",
   "execution_count": null,
   "metadata": {},
   "outputs": [],
   "source": [
    "String[] params = {\"this\", \"is\", \"fun\"};\n",
    "Runner.main(params);\n"
   ]
  }
 ],
 "metadata": {
  "kernelspec": {
   "display_name": "Java11",
   "language": "java",
   "name": "java"
  },
  "language_info": {
   "codemirror_mode": "text/x-java",
   "file_extension": ".java",
   "mimetype": "",
   "name": "Java",
   "nbconverter_exporter": "",
   "version": "11.0.13"
  }
 },
 "nbformat": 4,
 "nbformat_minor": 4
}
