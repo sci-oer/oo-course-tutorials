{
 "cells": [
  {
   "cell_type": "markdown",
   "metadata": {},
   "source": [
    "### **Constants**\n",
    "\n",
    "See [Static variables wiki](http://javanotes.socs.uoguelph.ca/en/intro/classMembers) for things to consider when defining static variables.  This page will provide you with some practice in static variables.\n",
    "\n",
    "#### Declare Constants as private\n",
    "\n",
    "A constant is a value that cannot be modified after it has been assigned. Since they are not directly supported by java, we use static and final to define them. \n",
    "\n",
    "`private final int DAYSINAWEEK = 7`"
   ]
  },
  {
   "cell_type": "code",
   "execution_count": null,
   "metadata": {},
   "outputs": [],
   "source": [
    "public class Circle   \n",
    "{  \n",
    "      //declare constant type double called pi and set it to 3.14;\n",
    "\n",
    "\n",
    "     // Create area method that takes parameter area of type int, and returns double. \n",
    "     // return the value of the area which equals pi Multiplied by radius squared\n",
    "     // you can square the radius using pow(double base, double exponent)\n",
    "   \n",
    "    \n",
    "    \n",
    "\n",
    "}  "
   ]
  },
  {
   "cell_type": "code",
   "execution_count": null,
   "metadata": {},
   "outputs": [],
   "source": [
    "// create circle object\n",
    "\n",
    "// call the area method and set it to double variable area\n",
    "\n",
    "// print \"Area of the circle: \"  + area variable\n"
   ]
  },
  {
   "cell_type": "markdown",
   "metadata": {},
   "source": [
    "You should see a result that looks something like:<br>\n",
    "Area of the Circle: 200.96\n",
    "\n",
    "#### Declaring Constant as Public\n",
    "\n",
    "write a code that declares constant `PI` as `public`. When we run the program, you will assign `3.15` in the constant `PI`. After that, you will invoke `area()` method. "
   ]
  },
  {
   "cell_type": "code",
   "execution_count": null,
   "metadata": {},
   "outputs": [],
   "source": [
    "public class Circle   \n",
    "{  \n",
    "      //declare constant type double called pi and set it to 3.14;\n",
    "\n",
    "    \n",
    "     // Create area method that takes parameter area of type int, and returns double. \n",
    "     // return the value of the area which equals pi Multiplied by radius squared\n",
    "     // you can square the radius using pow(double base, double exponent)\n",
    "   \n",
    "    \n",
    "    \n",
    "}  "
   ]
  },
  {
   "cell_type": "code",
   "execution_count": null,
   "metadata": {},
   "outputs": [],
   "source": [
    "// create circle object\n",
    "\n",
    "// call the area method and set it to double variable area\n",
    "\n",
    "// print \"Area of the circle = \"  + area variable\n",
    "\n",
    "//  assign value 3.15 to final variable PI\n",
    "\n",
    "\n",
    "// print \"Area of the circle = \"  + area variable again\n"
   ]
  },
  {
   "cell_type": "markdown",
   "metadata": {
    "tags": []
   },
   "source": [
    "You should see a result that looks something like: <br>\n",
    "Area of the Circle: 200.96\n",
    "\n",
    "After it prints the line above, it will show the following error that states a value cannot be assigned to final variable PI:\n",
    "\n",
    "`|   circle.PI = 3.15;`<br>\n",
    "`cannot assign a value to final variable PI`\n",
    "\n",
    "#### Using Enumeration (Enum) as Constant\n",
    "\n",
    "- It is a list of constants.\n",
    "- Java provides the `enum` keyword to define the enumeration.\n",
    "\n",
    "**Iterating Over Enum Values**\n",
    "\n",
    "Enums do not have methods for iteration like `forEach()` or `iterator()`. Instead,it uses an array of the Enum values returned by the `values()` method.\n",
    "\n",
    "`public enum Level { HIGH, MEDIUM, LOW }`"
   ]
  },
  {
   "cell_type": "markdown",
   "metadata": {},
   "source": [
    "**Iterate Using for Loop**"
   ]
  },
  {
   "cell_type": "code",
   "execution_count": null,
   "metadata": {},
   "outputs": [],
   "source": [
    "for (Level level : level.values()) { \n",
    "    System.out.println(level);\n",
    "}"
   ]
  },
  {
   "cell_type": "markdown",
   "metadata": {},
   "source": [
    "Write a code that define enum color with the following constants : Red, orange, yellow, green, blue, indigo, violet. Then, iteratate over them and print their values"
   ]
  },
  {
   "cell_type": "code",
   "execution_count": null,
   "metadata": {},
   "outputs": [],
   "source": [
    "public class Rainbow {    \n",
    "    //defining the enum Color with the following constants : Red, orange, yellow, green, blue, indigo, violet.\n",
    "    \n",
    "    public void printColors() {    \n",
    "        // loop through the enum,values and print them\n",
    "        \n",
    "        \n",
    "        \n",
    "    }\n",
    "}    "
   ]
  },
  {
   "cell_type": "code",
   "execution_count": null,
   "metadata": {},
   "outputs": [],
   "source": [
    "Rainbow rainbow = new Rainbow();\n",
    "rainbow.printColors();"
   ]
  },
  {
   "cell_type": "markdown",
   "metadata": {},
   "source": [
    "You should see a result that looks something like: <br>\n",
    " Red    <br> \n",
    " orange <br> \n",
    " yellow <br>\n",
    " green  <br>\n",
    " blue   <br>\n",
    " indigo <br>\n",
    " violet <br>"
   ]
  },
  {
   "cell_type": "code",
   "execution_count": null,
   "metadata": {},
   "outputs": [],
   "source": []
  }
 ],
 "metadata": {
  "kernelspec": {
   "display_name": "Java",
   "language": "java",
   "name": "java"
  },
  "language_info": {
   "codemirror_mode": "java",
   "file_extension": ".jshell",
   "mimetype": "text/x-java-source",
   "name": "Java",
   "pygments_lexer": "java",
   "version": "11.0.11+9-Ubuntu-0ubuntu2.20.04"
  }
 },
 "nbformat": 4,
 "nbformat_minor": 4
}
