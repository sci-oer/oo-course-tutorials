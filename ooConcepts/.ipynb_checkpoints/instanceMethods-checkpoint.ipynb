{
 "cells": [
  {
   "cell_type": "markdown",
   "metadata": {},
   "source": [
    "### **Instance Methods**\n",
    "\n",
    "Instance methods require an object of its class to be created before it can be called. \n",
    "\n",
    "\n",
    "**The general form of an instance method is as follows:**\n",
    "\n",
    "`[visability] [returnType] name(parameters) { // method body }`\n",
    "\n",
    "The **visibility** is usually `public` or `private`.  \n",
    "\n",
    "The **returnType** is the type of the return value. (return type would be `void` if there is no value returned)\n",
    "\n",
    "The **name** is the name of the method.\n",
    "\n",
    "The **parameters** is the list of the parameters, or arguments given to the method.\n",
    "\n",
    "---\n",
    "  A `Course` class has been started for you below.  It has accessor and mutator methods defined for setting the state of an instance.   Write an instance method  called `displayInfo()` that outputs two lines of text.\n",
    "  ```\n",
    "  course name: namehwere\n",
    "  course grade: grade here\n",
    "  ```\n"
   ]
  },
  {
   "cell_type": "code",
   "execution_count": 1,
   "metadata": {},
   "outputs": [
    {
     "data": {
      "text/plain": [
       "null"
      ]
     },
     "execution_count": 1,
     "metadata": {},
     "output_type": "execute_result"
    }
   ],
   "source": [
    "public class Course {\n",
    "\n",
    "    //instance variables\n",
    "   String title;\n",
    "   int grade;\n",
    "    \n",
    "  public String getTitle(){\n",
    "      return title;\n",
    "  }\n",
    "  public void setTitle(String theTitle){\n",
    "      title = theTitle;\n",
    "  }\n",
    "  public int getGrade(){\n",
    "      return grade;\n",
    "  }\n",
    "   \n",
    "  public void setGrade(int theGrade){\n",
    "      grade = theGrade;\n",
    "  }\n",
    "   // create an instance method called displayInfo() \n",
    "    \n",
    "\n",
    "    \n",
    "}"
   ]
  },
  {
   "cell_type": "markdown",
   "metadata": {
    "tags": []
   },
   "source": [
    "#### Using Instance Methods\n",
    "**To call instance methods we use the following format:**\n",
    "\n",
    "`objectName.methodName(parameters);`\n",
    "\n",
    "The **objectName** is the name of the object we are calling the method on.\n",
    "\n",
    "The **methodName** is the name of the instance method we are calling.\n",
    "\n",
    "The **parameters** are the inputs we give the method (if any)."
   ]
  },
  {
   "cell_type": "code",
   "execution_count": null,
   "metadata": {},
   "outputs": [],
   "source": [
    "// create an object for the Course class you edited above, and pass it \"Physics\" as the course name and 90 for the grade\n",
    "\n",
    "\n",
    "// call displayInfo() method from course \n",
    "\n"
   ]
  },
  {
   "cell_type": "markdown",
   "metadata": {},
   "source": [
    "You should see a result that looks something like: <br>\n",
    "course name: Physics <br>\n",
    "grade earned:  90% <br>\n",
    "\n",
    "#### Method Return Type\n",
    "A Java method may or may not return a value to the function call. We use the return statement to return any value."
   ]
  },
  {
   "cell_type": "code",
   "execution_count": null,
   "metadata": {},
   "outputs": [],
   "source": [
    "private int add() { \n",
    "    // ...\n",
    "    return sum;\n",
    "}"
   ]
  },
  {
   "cell_type": "markdown",
   "metadata": {},
   "source": [
    "edit the `Math` class shown below, and create a  method square that returns num squared."
   ]
  },
  {
   "cell_type": "code",
   "execution_count": null,
   "metadata": {},
   "outputs": [],
   "source": [
    "public class Math {\n",
    "    // create a  method square that returns num*num\n",
    "\n",
    "    \n",
    "    "
   ]
  },
  {
   "cell_type": "markdown",
   "metadata": {},
   "source": [
    "call `square()` method and pass it the number 10. After that, store the returnded value in the variable result."
   ]
  },
  {
   "cell_type": "code",
   "execution_count": null,
   "metadata": {},
   "outputs": [],
   "source": [
    "// create object of the Math class\n",
    "\n",
    "\n",
    "// declare variable result\n",
    "\n",
    "\n",
    "// call square method and pass it the number 10 \n",
    "// store returned value to result\n",
    "\n",
    "\n",
    "\n",
    "// print \"Squared value of 10 is: \" + result variable\n",
    "\n"
   ]
  },
  {
   "cell_type": "markdown",
   "metadata": {},
   "source": [
    "You should see a result that looks something like: 100"
   ]
  },
  {
   "cell_type": "code",
   "execution_count": null,
   "metadata": {},
   "outputs": [],
   "source": []
  }
 ],
 "metadata": {
  "kernelspec": {
   "display_name": "Java11",
   "language": "java",
   "name": "java"
  },
  "language_info": {
   "codemirror_mode": "text/x-java",
   "file_extension": ".java",
   "mimetype": "",
   "name": "Java",
   "nbconverter_exporter": "",
   "version": "11.0.13"
  }
 },
 "nbformat": 4,
 "nbformat_minor": 4
}
