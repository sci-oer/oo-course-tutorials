{
 "cells": [
  {
   "cell_type": "markdown",
   "id": "be39d59c-fea8-4f8e-9188-365a811fc618",
   "metadata": {},
   "source": [
    "This tutorial will give you some practice with sending messages to instances as well as help you understand the messages available for instances of type `String`.\n",
    "\n",
    "The [javadocs for the `String` class](http://localhost:8000/api/java.base/java/lang/String.html) are included in this docker container.   You may find it helpful to have them open in a second window. \n",
    "\n",
    "In Java, strings are immutable.  That means that you cannot change  a string once it has been given a value.  You can, however, assign the variable pointing at the string to point at a completely different string (see [References](http://localhost:3000/en/ooConcepts/references) for a discussion of references and pointers in Java)\n",
    "\n",
    "Lets start the tutorial by declaring three string variables.   Assign a string literal to one of the variables.   Here is one example:\n",
    "\n",
    "```\n",
    "String aStringVariable;\n",
    "aStringVariable = \"I like ice cream\";\n",
    "```\n",
    "Note that you can accomplish the same result in one line of code if you wish, but it is important to remember that two steps are happening: a declaration and an assignment.\n",
    "\n",
    "Use `System.out.println()` to print the string so you can see that it has the value you assigned."
   ]
  },
  {
   "cell_type": "code",
   "execution_count": null,
   "id": "210c2722-23f1-4c3a-b5cc-0762270c9fd7",
   "metadata": {},
   "outputs": [],
   "source": [
    "//experiment with strings and assigning values here\n"
   ]
  },
  {
   "cell_type": "markdown",
   "id": "9a6ae851-3801-41e6-989e-980be62f44a8",
   "metadata": {},
   "source": [
    "The string class has constructors that can be used  to create strings.   Use the string constructor that takes a literal to assign a value to one of your other string variables.   Here is an example. \n",
    "```\n",
    "String anotherStringVariable;\n",
    "anotherStringVariable = new String(\"Made with a constructor\");\n",
    "```\n",
    "\n",
    "Another way to assign a value to a string is to set it equal to an existing string variable.  Try that with your third variable. \n",
    "\n",
    "```\n",
    "String aThirdString;\n",
    "aThirdString = aStringVariable;\n",
    "```\n",
    "Print the strings as you go.\n",
    "\n",
    "Now that you have some strings, try out some of the methods (messages) that are available.   Methods that are often very useful in string manipulation include:\n",
    "\n",
    "- concat(String)  `aThirdString = aStringVariable.concat(anotherStringVariable)`\n",
    "- endsWith(String)  `boolean state = aStringVariable.endsWith(\"m\")`\n",
    "- indexOf(int)  `int position = aStringVariable.indexOf('l')`\n",
    "- isEmpty()  `boolean state = anotherStringVariable.isEmpty()`\n",
    "- toLowerCase()  `String aNewString = aStringVariable.toLowerCase()`\n",
    "\n"
   ]
  },
  {
   "cell_type": "code",
   "execution_count": null,
   "id": "3087a01a-bf95-4344-8677-3ba154e7903f",
   "metadata": {},
   "outputs": [],
   "source": [
    "// experiment with string methods here\n"
   ]
  },
  {
   "cell_type": "markdown",
   "id": "27a168d7-3248-4a3a-9b60-d23fbec4c38a",
   "metadata": {},
   "source": [
    "There are many more methods that are useful and worth experimenting with.  The key understandings you gain from this exercise  should be:\n",
    "\n",
    "1. invoking methods is done using the dot notation with the method name after the instance variable name\n",
    "2. when methods have a return value that value must be *caught* in a variable\n",
    "3. strings can appear to be mutable because the methods that mutate the string return a new string with the mutation\n"
   ]
  },
  {
   "cell_type": "code",
   "execution_count": null,
   "id": "831b5add-0a01-4692-aaad-92e07cc5d313",
   "metadata": {},
   "outputs": [],
   "source": []
  }
 ],
 "metadata": {
  "kernelspec": {
   "display_name": "Java11",
   "language": "java",
   "name": "java"
  },
  "language_info": {
   "codemirror_mode": "text/x-java",
   "file_extension": ".java",
   "mimetype": "",
   "name": "Java",
   "nbconverter_exporter": "",
   "version": "11.0.13"
  }
 },
 "nbformat": 4,
 "nbformat_minor": 5
}
