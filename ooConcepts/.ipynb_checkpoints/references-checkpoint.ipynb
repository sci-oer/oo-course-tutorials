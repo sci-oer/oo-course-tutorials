{
 "cells": [
  {
   "cell_type": "markdown",
   "id": "779eeea8-0d8f-4d0b-9298-d0303a44e69f",
   "metadata": {},
   "source": [
    "## Reference variables\n",
    "\n",
    "Verify the effects of using multiple reference variables to refer to an instance by experimenting with the code shown in the wiki entry.   A `Dog` class is provided for you.  Feel free to add more methods to the `Dog` class if you wish."
   ]
  },
  {
   "cell_type": "code",
   "execution_count": null,
   "id": "dd7a64b7-d61a-4ec0-a38f-48b028fe4493",
   "metadata": {},
   "outputs": [],
   "source": [
    "public class Dog {\n",
    "    private String name;\n",
    "    \n",
    "    public void setName(String theName){\n",
    "        name = theName;\n",
    "    }\n",
    "    public String getName(){\n",
    "        return name;\n",
    "    }\n",
    "}"
   ]
  },
  {
   "cell_type": "markdown",
   "id": "39757660-0530-4973-b547-1c195b31e38d",
   "metadata": {},
   "source": [
    "Create several instances of the Dog class and set the names.  For your reference the example used in the wiki entry is repeated here.   Don't just cut/paste the example, try to come up with your own.\n",
    "```\n",
    "Dog fido;\n",
    "Dog fluffy;\n",
    "fido = new Dog();\n",
    "fido.setName(\"fido\");\n",
    "fluffy = new Dog();\n",
    "fluffy.setName(\"fluffy\");\n",
    "// check the names\n",
    "System.out.println(fluffy.getName());\n",
    "System.out.println(fido.getName());\n",
    "```"
   ]
  },
  {
   "cell_type": "code",
   "execution_count": null,
   "id": "4b6be134-4ce7-40c8-9edc-1c3f70edbd9f",
   "metadata": {},
   "outputs": [],
   "source": [
    "//your code here"
   ]
  },
  {
   "cell_type": "markdown",
   "id": "2fb96f19-6cbc-4340-a802-c846d94417d1",
   "metadata": {},
   "source": [
    "Now assign two or more of your reference variables to point at the same instance. This is done simply by using the assignment operator (`=`).  e.g. `fluffy = fido`.  Print the names again to see what the effect is.\n"
   ]
  },
  {
   "cell_type": "code",
   "execution_count": null,
   "id": "52215d73-6252-4698-a7f7-cdafe81c96c1",
   "metadata": {},
   "outputs": [],
   "source": [
    "//your code here"
   ]
  },
  {
   "cell_type": "markdown",
   "id": "c0422f82-1b14-4c9c-a402-750222a4be86",
   "metadata": {},
   "source": [
    "Change the value of the name for the instance with multiple references by calling the `setName` method using one of the references.   Print out the names again.    Can you explain how this works?\n"
   ]
  },
  {
   "cell_type": "code",
   "execution_count": null,
   "id": "edf2e919-f168-4fe1-80a6-d680860d1025",
   "metadata": {},
   "outputs": [],
   "source": [
    "//your code here"
   ]
  }
 ],
 "metadata": {
  "kernelspec": {
   "display_name": "Java11",
   "language": "java",
   "name": "java"
  },
  "language_info": {
   "codemirror_mode": "text/x-java",
   "file_extension": ".java",
   "mimetype": "",
   "name": "Java",
   "nbconverter_exporter": "",
   "version": "11.0.13"
  }
 },
 "nbformat": 4,
 "nbformat_minor": 5
}
