{
 "cells": [
  {
   "cell_type": "markdown",
   "metadata": {},
   "source": [
    "### **Static Methods**\n",
    "\n",
    "The static methods are associated with the class, rather than the object.  \n",
    "\n",
    "Static methods can be called without creating an object of class. They are referenced by the class name itself or reference to the Object of that class.  \n",
    "\n",
    "Static methods can be accessed directly in other static as well as other instance methods.\n",
    "\n",
    "`visibility static return_type method_name();`\n",
    "\n",
    "---\n",
    "In the cell below create two additional methods for the Test class. \n",
    "The first method (classMessage()) should be a class (static) method that prints out the classMessage.   The second method (instanceMessage()) should be an instance method that prints out the instanceMessage followed by the classMessage."
   ]
  },
  {
   "cell_type": "code",
   "execution_count": null,
   "metadata": {},
   "outputs": [],
   "source": [
    "public class Test {\n",
    "    private static String classMessage;\n",
    "    private String instanceMessage;\n",
    "    \n",
    "    \n",
    "    public void setInstanceMessage(String theMessage){\n",
    "        instanceMessage = theMessage;\n",
    "    }\n",
    "    //instance method here\n",
    "    \n",
    "    \n",
    "    public static void setClassMessage(String theMessage){\n",
    "        classMessage = theMessage;\n",
    "    }\n",
    "   //static method here\n",
    "    public static void classMessage(){\n",
    "        System.out.println(classMessage);\n",
    "    }\n",
    "}"
   ]
  },
  {
   "cell_type": "markdown",
   "metadata": {},
   "source": [
    "#### Using Static Methods\n",
    "\n",
    "Static method(s) are associated with the class in which they reside i.e. they are called without creating an instance of the class i.e `ClassName.methodName(args)`.\n",
    "\n",
    "Set the classMessage using the static method setClassMessage.  Then call the classMessage method you wrote to print out that message.   You don't need any instances of the Test class to do this."
   ]
  },
  {
   "cell_type": "code",
   "execution_count": null,
   "metadata": {},
   "outputs": [],
   "source": [
    "// Call the static methods for Test\n",
    "\n",
    "\n",
    "// Create an instance of test\n",
    "\n",
    "\n",
    "// Call the public method you created above\n",
    "\n"
   ]
  },
  {
   "cell_type": "markdown",
   "metadata": {},
   "source": [
    "In the next cell make some instances of the Test class, set the instance message, and then call the instanceMessage() method that you wrote."
   ]
  },
  {
   "cell_type": "code",
   "execution_count": null,
   "metadata": {},
   "outputs": [],
   "source": []
  },
  {
   "cell_type": "markdown",
   "metadata": {
    "tags": []
   },
   "source": [
    "#### Call static method from another class\n",
    "\n",
    "We can call a static method in Java from another class directly using the class name.  \n",
    "    \n",
    "in the TestDemo class write an instance method called demo that calls the static classMessage method from the Test class.  "
   ]
  },
  {
   "cell_type": "code",
   "execution_count": null,
   "metadata": {},
   "outputs": [],
   "source": [
    "public class TestDemo \n",
    "{ \n",
    "    \n",
    "\n",
    "    \n",
    "    \n",
    "}"
   ]
  },
  {
   "cell_type": "markdown",
   "metadata": {},
   "source": [
    "Now create an instance of TestDemo and call the demo method."
   ]
  },
  {
   "cell_type": "code",
   "execution_count": null,
   "metadata": {},
   "outputs": [],
   "source": []
  },
  {
   "cell_type": "code",
   "execution_count": null,
   "metadata": {},
   "outputs": [],
   "source": []
  }
 ],
 "metadata": {
  "kernelspec": {
   "display_name": "Java11",
   "language": "java",
   "name": "java"
  },
  "language_info": {
   "codemirror_mode": "text/x-java",
   "file_extension": ".java",
   "mimetype": "",
   "name": "Java",
   "nbconverter_exporter": "",
   "version": "11.0.13"
  }
 },
 "nbformat": 4,
 "nbformat_minor": 4
}
