{
 "cells": [
  {
   "cell_type": "markdown",
   "metadata": {
    "tags": []
   },
   "source": [
    "### **Class Structure**\n",
    "**Programmer Defined Classes**\n",
    "\n",
    "Most OO programs use a combination of third party classes, built in library classes, and classes that the programmer has defined and tested.     \n",
    "\n",
    "This tutorial will provide you with some practice in writing your own class.\n",
    "\n",
    "#### Decide on the purpose and name of the class\n",
    "\n",
    "You can't really build a class until you know what its purpose is.  For this demo we will construct a class to represent a Pet.  Class names are represented with an upper case first letter by convention.\n",
    "\n",
    "`public class Pet{\n",
    "}`\n",
    "\n",
    "create the class in the space below and click the run button to see what happens"
   ]
  },
  {
   "cell_type": "code",
   "execution_count": null,
   "metadata": {},
   "outputs": [],
   "source": [
    "// put your class  here- just the name for now\n",
    "\n",
    "public class Pet{}"
   ]
  },
  {
   "cell_type": "markdown",
   "metadata": {},
   "source": [
    "Lets add an instance method to this class.  Write a zero parameter public void method that prints a string using System.out.   By convention method names are written in camelCase.\n",
    "\n",
    "Run your class and you should see the same output as the previous step"
   ]
  },
  {
   "cell_type": "code",
   "execution_count": null,
   "metadata": {},
   "outputs": [],
   "source": [
    "//put your class with a public method here.  \n"
   ]
  },
  {
   "cell_type": "markdown",
   "metadata": {},
   "source": [
    "Now we can use the class we just built.  Lets start with importing the package and using it that way."
   ]
  },
  {
   "cell_type": "code",
   "execution_count": null,
   "metadata": {},
   "outputs": [],
   "source": [
    "\n",
    "\n",
    "// we need an instance of Pet before we can call the instance method\n",
    "Pet theExample = new Pet(); //default constructor provided by Java\n",
    "// change the method call below to be what you called your method\n",
    "theExample.methodnamehere();\n"
   ]
  },
  {
   "cell_type": "markdown",
   "metadata": {},
   "source": [
    "You should see the output from your method when you run the code.  (plus the 'null' that jupyter adds as a return value.  Ignore that.)\n",
    "\n",
    "\n"
   ]
  },
  {
   "cell_type": "markdown",
   "metadata": {},
   "source": [
    "Classes have a purpose.  To achieve that purpose they contain data that represents the state of the class and methods that allow the user to operate on that data.  \n",
    "\n",
    "The data portion of a class is represented with instance and class variables.  For this demo we will only use instance variables.  \n",
    "\n",
    "Add instance variables to your class definition to represent the pet's species, name, and age.  Instance variables are always private.  By convention the names of instance variables are written in camelCase.\n",
    "\n",
    "Also add accessor and mutator methods to the class to allow manipulation of the instance variables (getters and setters).  The accessor/mutator pair for the pets name are done for you as an example.\n",
    "\n",
    "\n",
    "\n"
   ]
  },
  {
   "cell_type": "code",
   "execution_count": null,
   "metadata": {},
   "outputs": [],
   "source": [
    "\n",
    "public class Pet{\n",
    "    //instance variable for name is done for object\n",
    "    private String name;\n",
    "    //instance variable for species here\n",
    "\n",
    "    //instance variable for age\n",
    "   \n",
    "    \n",
    "    // accessors and mutators for name are done for you.  \n",
    "    \n",
    "    public void setName(String theName){\n",
    "        name = theName;     \n",
    "    }\n",
    "    public String getName(){\n",
    "        return name;       \n",
    "    }\n",
    "   //add accessors and mutators for species and age\n",
    "    \n",
    "    \n",
    "    //the original printing method you wrote is here\n",
    "    public void youremethodnamehere(){\n",
    "        //print something here\n",
    "    }\n",
    "}"
   ]
  },
  {
   "cell_type": "markdown",
   "metadata": {},
   "source": [
    "Now we can use the accessors and mutators to see the state of the instance we create and to change that state.\n",
    "The example below uses the name accessor and mutators. Run the example to see what is printed out.\n",
    "\n"
   ]
  },
  {
   "cell_type": "code",
   "execution_count": null,
   "metadata": {},
   "outputs": [],
   "source": [
    "\n",
    "Pet theExample = new Pet();\n",
    "theExample.setName(\"Fido\");\n",
    "String nameFromAccessor = theExample.getName();\n",
    "System.out.println(nameFromAccessor);\n",
    "theExample.setName(\"Sylvester\");\n",
    "nameFromAccessor = theExample.getName();\n",
    "System.out.println(nameFromAccessor);"
   ]
  },
  {
   "cell_type": "markdown",
   "metadata": {},
   "source": [
    "Now add your own code to the  example above to use the species and age accessors and mutators.\n",
    "\n",
    "Accessors and mutators are useful because they ensure that state changes happen in only one place in the code.   Classes also need to provide methods that add value to the operation of the overal program, otherwise you wouldn't need the class.   \n",
    "\n",
    "Add a method to the Pet class that returns a nicely formatted String representation of the state of the instance.    The string should include the instances name, age and species in some human readable fashion.  \n",
    "\n"
   ]
  },
  {
   "cell_type": "code",
   "execution_count": null,
   "metadata": {},
   "outputs": [],
   "source": [
    "\n",
    "public class Pet{\n",
    "  //copy your pet class code here\n",
    "    \n",
    "    \n",
    "    \n",
    "    // add your new method here\n",
    "}"
   ]
  },
  {
   "cell_type": "markdown",
   "metadata": {},
   "source": [
    "Finally,  create an instance of the revised pet class and call the new method you wrote.   Print the returned string.   Remember to run the cell that contains your revised pet class before you try to use it."
   ]
  },
  {
   "cell_type": "code",
   "execution_count": null,
   "metadata": {},
   "outputs": [],
   "source": [
    "\n",
    "Pet anotherExample = new Pet();\n",
    "//set the state of the pet here\n",
    "\n",
    "\n",
    "// call your new method that returns a string here\n",
    "\n",
    "\n",
    "// print out the string here\n",
    "\n"
   ]
  },
  {
   "cell_type": "markdown",
   "metadata": {},
   "source": [
    "#### Additional Topics related to programmer constructed classes\n",
    "* access controls\n",
    "* constructors\n",
    "* toString methods\n",
    "* class variables\n",
    "* class methods"
   ]
  },
  {
   "cell_type": "code",
   "execution_count": null,
   "metadata": {},
   "outputs": [],
   "source": []
  }
 ],
 "metadata": {
  "kernelspec": {
   "display_name": "Java11",
   "language": "java",
   "name": "java"
  },
  "language_info": {
   "codemirror_mode": "text/x-java",
   "file_extension": ".java",
   "mimetype": "",
   "name": "Java",
   "nbconverter_exporter": "",
   "version": "11.0.13"
  }
 },
 "nbformat": 4,
 "nbformat_minor": 4
}
