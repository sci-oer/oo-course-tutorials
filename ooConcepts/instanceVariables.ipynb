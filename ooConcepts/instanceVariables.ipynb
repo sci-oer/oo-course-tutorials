{
 "cells": [
  {
   "cell_type": "markdown",
   "metadata": {},
   "source": [
    "### **Instance Variables**\n",
    "\n",
    "Instance variables are variables defined **inside the class body but outside of any method or block.**   By convention instance variables should be defined near the top of the class definition, before any methods are declared.\n",
    "\n",
    "Instance variables belong to an object and **each object has its own copy of instance variables.**\n",
    "\n",
    "Thus, they represent the state of an object.\n",
    "\n",
    "\n",
    "#### Defining instance variables\n",
    "\n",
    "Below is a class `Movie` which contains an instance variable called `title` and you will declare another instance variable called `year` and a class method `displayMovie()` which prints the values of both these variables."
   ]
  },
  {
   "cell_type": "code",
   "execution_count": null,
   "metadata": {},
   "outputs": [],
   "source": [
    "public class Movie {\n",
    "\n",
    "    //instance variable for title is done\n",
    "   private String title;\n",
    "    \n",
    "   // define instance variable year of type int\n",
    "\n",
    "    \n",
    "    \n",
    "    // edit the constructor, so that it takes an additional parameter aYear of type int\n",
    "   public Movie(String aTitle) {\n",
    "      title = aTitle;\n",
    "      // intialize intance variable year to aYear\n",
    "       \n",
    "       \n",
    "   }\n",
    "   \n",
    "   // edit the instance method displayMovie() to print the year variable\n",
    "   public void displayMovie() {\n",
    "      System.out.println(\"Movie title: \" + title);\n",
    "       // print out \"year released:\" + instance variable year\n",
    "\n",
    "       \n",
    "   }\n",
    "}"
   ]
  },
  {
   "cell_type": "markdown",
   "metadata": {},
   "source": [
    "Let us create a couple of objects of this class:"
   ]
  },
  {
   "cell_type": "code",
   "execution_count": null,
   "metadata": {},
   "outputs": [],
   "source": [
    "Movie movieOne = new Movie(\"Jaws\", 1975);\n",
    "movieOne.displayMovie();\n",
    "Movie movieTwo = new Movie(\"Moonlight\", 2016);\n",
    "movieTwo.displayMovie();"
   ]
  },
  {
   "cell_type": "markdown",
   "metadata": {},
   "source": [
    "You should see a result that looks something like:<br>\n",
    "Movie title: Jaws<br>\n",
    "year released: 1975<br>\n",
    "Movie title: Moonlight<br>\n",
    "year released: 2016<br>\n",
    "\n",
    "Instance variables represent the state of an object. Thus, one object represents the Movie Jaws from year 1975 and another object represents the movie Moonlight from year 2016.\n",
    "\n",
    "### Accessors and Mutators\n",
    "\n",
    "Instance variables should always be set to private.  The value of instance variables can be observed and changed (when appropriate) through the use of accessor and mutator methods.  \n",
    "\n",
    "Add two instance variables to DemoClass of two different types.  Make one of them a class type.  Complete the accessor and mutator methods for those variables.  A third one is done for you as an example.\n",
    "\n"
   ]
  },
  {
   "cell_type": "code",
   "execution_count": null,
   "metadata": {},
   "outputs": [],
   "source": [
    "class DemoClass\n",
    "{\n",
    "    \n",
    "    private int firstInstanceVariable;\n",
    "    //declare two  more instance variables\n",
    "\n",
    "    \n",
    "    //accessor and mutator for firstInstanceVariable\n",
    "    public int getFirstInstanceVariable(){\n",
    "        return firstInstanceVariable;\n",
    "    }\n",
    "    public void setFirstInstanceVariable(int theValue){\n",
    "        firstInstanceVariable = theValue;\n",
    "    }\n",
    "    //write accessor and mutator methods for your instance variables.  \n",
    "\n",
    "    \n",
    "}\n"
   ]
  },
  {
   "cell_type": "markdown",
   "metadata": {},
   "source": [
    "Now try to use the accessors and mutators to set values for your variables and print them out.   There is an example done for you.  "
   ]
  },
  {
   "cell_type": "code",
   "execution_count": null,
   "metadata": {},
   "outputs": [],
   "source": [
    "DemoClass theDemo = new DemoClass();\n",
    "theDemo.setFirstInstanceVariable(66);\n",
    "int theValue = theDemo.getFirstInstanceVariable();\n",
    "System.out.println(theValue);\n",
    "theDemo.setFirstInstanceVariable(5);\n",
    "int theValue = theDemo.getFirstInstanceVariable();\n",
    "System.out.println(theValue);"
   ]
  }
 ],
 "metadata": {
  "kernelspec": {
   "display_name": "Java11",
   "language": "java",
   "name": "java"
  },
  "language_info": {
   "codemirror_mode": "text/x-java",
   "file_extension": ".java",
   "mimetype": "",
   "name": "Java",
   "nbconverter_exporter": "",
   "version": "11.0.13"
  }
 },
 "nbformat": 4,
 "nbformat_minor": 4
}
