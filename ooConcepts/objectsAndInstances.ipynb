{
 "cells": [
  {
   "cell_type": "markdown",
   "id": "85cd7816-5e49-4944-9002-a2f622781df5",
   "metadata": {
    "tags": []
   },
   "source": [
    "## Declaring and Using Instances\n",
    "\n",
    "Object-Oriented programs are written by declaring variables of different types of objects and using those objects to accomplish the goals of the program.\n",
    "\n",
    "Objects can be declared from classes that are built in to the Java language, from classes that are part of third party libraries and from classes that the programmer has defined.\n",
    "\n",
    "```String``` is a built in class in the Java language.  You can declare a variable of type ```String``` in this fashion: ```String myVariable;```\n",
    "\n",
    "Declare a variable of type ```String``` in the cell below and run it to make sure your syntax is correct.  You should see the word null."
   ]
  },
  {
   "cell_type": "code",
   "execution_count": 17,
   "id": "d0595ac6-906d-41c7-8a52-36a6460716a7",
   "metadata": {},
   "outputs": [
    {
     "data": {
      "text/plain": [
       "null"
      ]
     },
     "execution_count": 17,
     "metadata": {},
     "output_type": "execute_result"
    }
   ],
   "source": [
    "// declare your variable of type String here\n",
    "String someString;"
   ]
  },
  {
   "cell_type": "markdown",
   "id": "b7c121c3-6c3e-4d83-b6a4-3aa78010be6d",
   "metadata": {},
   "source": [
    "Classes have the ability to store data as well as to manipulate that data through methods.   You can assign a string literal to your ```String``` variable with an equals sign.  Assign your variable the value \"Saskatchewan\".\n"
   ]
  },
  {
   "cell_type": "code",
   "execution_count": 20,
   "id": "56b17b5a-cd23-4913-aa0c-b92e95ffbb72",
   "metadata": {},
   "outputs": [
    {
     "name": "stdout",
     "output_type": "stream",
     "text": [
      "Saskatchewan\n"
     ]
    },
    {
     "data": {
      "text/plain": [
       "null"
      ]
     },
     "execution_count": 20,
     "metadata": {},
     "output_type": "execute_result"
    }
   ],
   "source": [
    "//assign a value to your variable here.\n",
    "\n",
    "someString = \"Saskatchewan\";\n",
    "// the next line will print the variable to stdout.  Put the name of your variable\n",
    "// in the method parameter\n",
    "System.out.println(someString);"
   ]
  },
  {
   "cell_type": "markdown",
   "id": "9ae56a61-c0a2-40b4-ab5e-ee811866fc61",
   "metadata": {},
   "source": [
    "The data in an object can be manipulated and examined using the methods provided by the class (type) of that object.  The ```String``` class provides several methods, one of which is ```indexOf(ch)```.  This method returns the numerical index of a character in the string.   \n",
    "\n",
    "For example, if a variable was named theString and it held a value of \"cat\" we could find the index of the letter t in this way: ``` int theLocation = theString.indexOf('t');```\n",
    "\n",
    "Run the code below.  What do you notice about the index value?  What does that tell you about string indexing in Java?"
   ]
  },
  {
   "cell_type": "code",
   "execution_count": null,
   "id": "746c4892-5dc3-4580-9fd6-85bfa9d607a1",
   "metadata": {},
   "outputs": [],
   "source": [
    "String theString = \"cat\";\n",
    "int theLocation = theString.indexOf('t');\n",
    "System.out.println(theLocation);"
   ]
  },
  {
   "cell_type": "markdown",
   "id": "61096d5d-ae66-4c75-ae81-60680af70b2f",
   "metadata": {},
   "source": [
    "Use the indexOf method to find the position of the character w in your string.  Print the value to stdout.  \n"
   ]
  },
  {
   "cell_type": "code",
   "execution_count": null,
   "id": "17933c03-b3d8-4640-a86b-830ccfb479e2",
   "metadata": {},
   "outputs": [],
   "source": [
    "//find the index of the character w and print it to stdout\n"
   ]
  },
  {
   "cell_type": "markdown",
   "id": "50141215-821d-47ab-a724-4d7c7225aa2f",
   "metadata": {},
   "source": [
    "## Instances of Programmer Defined Classes\n",
    "\n",
    "Declaring and using instances for programmer defined classes is accomplished in exactly the same way.   First the class must be defined, then variables of that type declared, then methods provided by the class are employed.\n",
    "\n",
    "Consider the Die class defined below.  It uses the random number generator to simulate a Die of any number of sides."
   ]
  },
  {
   "cell_type": "code",
   "execution_count": null,
   "id": "24c24070-21c4-4eb1-8573-63f8e855ab14",
   "metadata": {},
   "outputs": [],
   "source": [
    "import java.util.Random;\n",
    "public class Die {\n",
    "//instance attributes\n",
    "  private int sides;\n",
    "  private Random roller; //an attribute that is a class type\n",
    "\n",
    "  Die(int faces) {\n",
    "    sides = faces;\n",
    "    this.roller = new Random(); //initialize random number generator\n",
    "  }\n",
    "\n",
    "  public int roll() {\n",
    "    return roller.nextInt(sides) + 1;\n",
    "  }\n",
    "}"
   ]
  },
  {
   "cell_type": "markdown",
   "id": "d5ae3ad8-fa83-4e8d-b228-e5210d131244",
   "metadata": {},
   "source": [
    "The code below declares an instance of Die as well as an int variable, sets the size of the Die to be 6 and then calls the roll method 3 times, printing out the result.   Run the cell with the Die class defined and then run the cell below several times, observing the difference in results."
   ]
  },
  {
   "cell_type": "code",
   "execution_count": null,
   "id": "0c6f815f-f009-40bb-bff4-a5b0d04cf78e",
   "metadata": {},
   "outputs": [],
   "source": [
    "Die sixSided;\n",
    "int result;\n",
    "sixSided = new Die(6);\n",
    "result = sixSided.roll();\n",
    "System.out.println(result);\n",
    "result = sixSided.roll();\n",
    "System.out.println(result);\n",
    "result = sixSided.roll();\n",
    "System.out.println(result);"
   ]
  },
  {
   "cell_type": "markdown",
   "id": "ad8e02f3-62a0-43be-9f06-864896046605",
   "metadata": {},
   "source": [
    "In the cell below, declare a 4 sided die and a 10 sided die.  Roll each of them 3 times and print out the result to stdout."
   ]
  },
  {
   "cell_type": "code",
   "execution_count": null,
   "id": "c99b44da-1843-44ae-8b60-573228843b76",
   "metadata": {},
   "outputs": [],
   "source": [
    "// declare and use the Die instances here"
   ]
  },
  {
   "cell_type": "code",
   "execution_count": null,
   "id": "5dbf9b8a-08d3-4baa-835a-819083efff00",
   "metadata": {},
   "outputs": [],
   "source": []
  }
 ],
 "metadata": {
  "kernelspec": {
   "display_name": "Java11",
   "language": "java",
   "name": "java"
  },
  "language_info": {
   "codemirror_mode": "text/x-java",
   "file_extension": ".java",
   "mimetype": "",
   "name": "Java",
   "nbconverter_exporter": "",
   "version": "11.0.13"
  }
 },
 "nbformat": 4,
 "nbformat_minor": 5
}
