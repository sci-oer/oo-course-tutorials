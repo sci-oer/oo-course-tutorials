{
 "cells": [
  {
   "cell_type": "markdown",
   "metadata": {},
   "source": [
    "### **Static Variables (fields)**\n",
    "\n",
    "When a variable is declared as static, then a single copy of the variable is created and shared among all objects at a class level.\n",
    "\n",
    "#### Defining static variables\n",
    "\n",
    "`static` keyword followed by data type, followed by variable name.\n",
    "\n",
    "`private static data_type variable_name;`"
   ]
  },
  {
   "cell_type": "code",
   "execution_count": null,
   "metadata": {},
   "outputs": [],
   "source": [
    "public class StaticDemo {\n",
    "    // create a private static variable type double called max\n",
    "    \n",
    "    \n",
    "    //create an instance method to set the static variable\n",
    "    \n",
    "    \n",
    "    //create an instance method to get the value of the static variable.\n",
    "\n",
    "    \n",
    "}"
   ]
  },
  {
   "cell_type": "markdown",
   "metadata": {},
   "source": [
    "####  Using static variables\n",
    "\n",
    "Create two instances of the class StaticDemo.  Use one of them to set the value of the static variable and use the other one to get the value of the static variable.   Can you explain the output?\n"
   ]
  },
  {
   "cell_type": "code",
   "execution_count": null,
   "metadata": {},
   "outputs": [],
   "source": []
  },
  {
   "cell_type": "markdown",
   "metadata": {},
   "source": [
    "#### Using static variables as counters\n",
    "\n",
    "Whenever we initalize new object of a class, it will have it's own copy of the instance variables within the class. What if we wanted a variable that is shared across all the instances? we can use static variables for that.\n",
    "\n",
    "edit the `Car` class below, by declaring static variable `numberOfCars`, and then increment the variable inside the `Car` constructor.  "
   ]
  },
  {
   "cell_type": "code",
   "execution_count": 1,
   "metadata": {},
   "outputs": [
    {
     "data": {
      "text/plain": [
       "null"
      ]
     },
     "execution_count": 1,
     "metadata": {},
     "output_type": "execute_result"
    }
   ],
   "source": [
    "public class Car {\n",
    "    private String brand;\n",
    "    // create a private static variable numberOfCars\n",
    "    private static int numberOfCars = 0;\n",
    "    public Car(String carMaker) {\n",
    "        brand = carMaker;\n",
    "        // increment static variable numberOfCars here in the constructor\n",
    "        numberOfCars++;\n",
    "    }\n",
    "    \n",
    "       //create an accessor instance method for the static variable\n",
    "    public int getNum(){\n",
    "        return numberOfCars;\n",
    "    }\n",
    "}"
   ]
  },
  {
   "cell_type": "markdown",
   "metadata": {},
   "source": [
    "Create some instances of the Car class.   Experiment with printing out the static class variable to see what happens each time you create a new instance.  One is done for you.  You will notice that the number keeps going up each time you rerun the code.  You can restart the kernel  by right-clicking on the cell if you want to start over."
   ]
  },
  {
   "cell_type": "code",
   "execution_count": 2,
   "metadata": {},
   "outputs": [
    {
     "name": "stdout",
     "output_type": "stream",
     "text": [
      "1\n",
      "2\n"
     ]
    },
    {
     "data": {
      "text/plain": [
       "null"
      ]
     },
     "execution_count": 2,
     "metadata": {},
     "output_type": "execute_result"
    }
   ],
   "source": [
    "Car carOne = new Car(\"Ford\");\n",
    "System.out.println(carOne.getNum());\n",
    "Car carTwo = new Car(\"Fiat\");\n",
    "System.out.println(carOne.getNum());"
   ]
  },
  {
   "cell_type": "code",
   "execution_count": null,
   "metadata": {},
   "outputs": [],
   "source": []
  }
 ],
 "metadata": {
  "kernelspec": {
   "display_name": "Java11",
   "language": "java",
   "name": "java"
  },
  "language_info": {
   "codemirror_mode": "text/x-java",
   "file_extension": ".java",
   "mimetype": "",
   "name": "Java",
   "nbconverter_exporter": "",
   "version": "11.0.13"
  }
 },
 "nbformat": 4,
 "nbformat_minor": 4
}
