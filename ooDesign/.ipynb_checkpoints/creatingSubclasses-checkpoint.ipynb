{
 "cells": [
  {
   "cell_type": "markdown",
   "metadata": {},
   "source": [
    "### Writing subclasses\n",
    "\n",
    "Create a subclass of `ArrayList` called `Stack`\n",
    "\n",
    "write `push` and `pop` operations for your new subclass.   Override the `add` method of ArrayList so that it uses your newly defined pop method.\n",
    "\n",
    "You can use the [example in the wiki for `MiddleList<E>`](localhost:3000/ooDesign/inheritance) as a guide.\n"
   ]
  },
  {
   "cell_type": "code",
   "execution_count": 14,
   "metadata": {},
   "outputs": [
    {
     "data": {
      "text/plain": [
       "null"
      ]
     },
     "execution_count": 14,
     "metadata": {},
     "output_type": "execute_result"
    }
   ],
   "source": [
    "//write your Stack class here\n"
   ]
  },
  {
   "cell_type": "markdown",
   "metadata": {},
   "source": [
    "Now test your stack class by instantiating an object and using push and pop to add and remove elements."
   ]
  },
  {
   "cell_type": "code",
   "execution_count": 15,
   "metadata": {},
   "outputs": [
    {
     "name": "stdout",
     "output_type": "stream",
     "text": [
      "cat\n"
     ]
    },
    {
     "data": {
      "text/plain": [
       "null"
      ]
     },
     "execution_count": 15,
     "metadata": {},
     "output_type": "execute_result"
    }
   ],
   "source": [
    "//test your stack class here"
   ]
  },
  {
   "cell_type": "markdown",
   "metadata": {
    "tags": []
   },
   "source": [
    "### Using your subclass\n",
    "\n",
    "Write a program using your stack that reverses an array."
   ]
  },
  {
   "cell_type": "code",
   "execution_count": null,
   "metadata": {},
   "outputs": [],
   "source": [
    "Character[] charArray = {'a','b','c','d','e','f'};\n",
    "//user your stack to print this array in reverse order.\n",
    "\n",
    "http://localhost:3000/ooDesign/inheritance"
   ]
  }
 ],
 "metadata": {
  "kernelspec": {
   "display_name": "Java11",
   "language": "java",
   "name": "java"
  },
  "language_info": {
   "codemirror_mode": "text/x-java",
   "file_extension": ".java",
   "mimetype": "",
   "name": "Java",
   "nbconverter_exporter": "",
   "version": "11.0.13"
  }
 },
 "nbformat": 4,
 "nbformat_minor": 4
}
