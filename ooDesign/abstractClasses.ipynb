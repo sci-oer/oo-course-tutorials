{
 "cells": [
  {
   "cell_type": "markdown",
   "metadata": {},
   "source": [
    "### **Abstract Class Subclasses**\n",
    "* **It is the ability to ignore details of parts to focus attention on a higher level of a problem**\n",
    "\n",
    "See [Abstraction wiki](http://javanotes.socs.uoguelph.ca/en/oop/encapsulation) for things to consider about Abstraction.  This page will provide you with some practice in Abstraction.\n",
    "\n"
   ]
  },
  {
   "cell_type": "markdown",
   "metadata": {},
   "source": [
    "#### Inherit an Abstract class\n",
    "\n",
    "To create an abstract class : `abstract class className { }`\n",
    "\n",
    "To inherit an abstract class : `class childClass extends className { }`\n",
    "\n",
    "To access the abstract class, it must be inherited from another class:"
   ]
  },
  {
   "cell_type": "code",
   "execution_count": null,
   "metadata": {},
   "outputs": [],
   "source": [
    "// write an abstract class called Person\n",
    "\n",
    "    // public void method called eat() that prints \"Person is eating\"\n",
    "\n",
    "    \n",
    "    // abstract void method called sleep()"
   ]
  },
  {
   "cell_type": "code",
   "execution_count": null,
   "metadata": {},
   "outputs": [],
   "source": [
    "// write an abstract class called Student\n",
    "  \n",
    "    \n",
    "    // Student constructor that prints \"This is Student constructor\"\n",
    "  \n",
    "    \n",
    "    // implement sleep() so it can print \"The Student is Sleeping\"\n",
    "\n"
   ]
  },
  {
   "cell_type": "code",
   "execution_count": null,
   "metadata": {},
   "outputs": [],
   "source": [
    "Student sc = new Student();\n",
    "sc.sleep();"
   ]
  },
  {
   "cell_type": "markdown",
   "metadata": {},
   "source": [
    "You should see a result that looks something like this:<br>\n",
    "This is Student constructor<br>\n",
    "The Student is Sleeping<br>\n",
    "\n",
    "You cannot create an instance of abstract class, since it will generate an error.\n",
    "\n",
    "#### Abstract Class Constructor\n",
    "\n",
    "Constructor of abstract class is called when an instance of an inherited class is created. \n",
    "\n",
    "Write an abstract class called `Person` that has `setName()` method, `getName()` method,  void abstract method called `sleep()` and a constructor that initializes the name variable and prints \"This is Person constructor\"\n",
    "\n",
    "Then write subclass that extends `Person` called `Student` that has a constructor that prints \"This is Student constructor\" and implementation of the `sleep()` method that prints \"The Student is Sleeping\"."
   ]
  },
  {
   "cell_type": "code",
   "execution_count": null,
   "metadata": {},
   "outputs": [],
   "source": [
    "// write an abstract class called Person\n",
    "\n",
    "\n",
    "    //initialize variable called name type String\n",
    "  \n",
    "    \n",
    "    // Person constructor takes parameter type String called n, to intialize the variable name and prints \"This is Person constructor\"\n",
    "  \n",
    "    \n",
    "    // a void method called setName() take  parameter type String called newName to set the name variable\n",
    "\n",
    "\n",
    "     // method called getName() returns the name variable and has no parameters\n",
    "\n",
    "    \n",
    "    // abstract void method called sleep()"
   ]
  },
  {
   "cell_type": "code",
   "execution_count": null,
   "metadata": {},
   "outputs": [],
   "source": [
    "// write an abstract class called Student\n",
    "  \n",
    "    \n",
    "    // Student constructor that prints \"This is Student constructor\"\n",
    "  \n",
    "    \n",
    "    // implement sleep() so it can print \"The Student is Sleeping\"\n",
    "\n",
    "\n"
   ]
  },
  {
   "cell_type": "code",
   "execution_count": null,
   "metadata": {},
   "outputs": [],
   "source": [
    "Student sc = new Student();"
   ]
  },
  {
   "cell_type": "markdown",
   "metadata": {},
   "source": [
    "You should see a result that looks something like this: <br>\n",
    "This is Person constructor<br>\n",
    "This is Student constructor<br>\n"
   ]
  },
  {
   "cell_type": "code",
   "execution_count": null,
   "metadata": {},
   "outputs": [],
   "source": []
  }
 ],
 "metadata": {
  "kernelspec": {
   "display_name": "Java11",
   "language": "java",
   "name": "java"
  },
  "language_info": {
   "codemirror_mode": "text/x-java",
   "file_extension": ".java",
   "mimetype": "",
   "name": "Java",
   "nbconverter_exporter": "",
   "version": "11.0.13"
  }
 },
 "nbformat": 4,
 "nbformat_minor": 4
}
