{
 "cells": [
  {
   "cell_type": "markdown",
   "metadata": {},
   "source": [
    "### Accessors and Mutators\n",
    "\n",
    "Improve the encapsulation of the `Pet` class shown by creating accessors and mutators for the instance data that should be available to a programmer who is using the class.  Stub versions of the extra classes (Breed and Owner) noted are written for you in the next cell.\n",
    "\n",
    "```\n",
    "public class Pet {\n",
    "\n",
    "   public String name;\n",
    "   public Breed breed;\n",
    "   public Owner owner;\n",
    "   public double age;\n",
    "}\n",
    "\n"
   ]
  },
  {
   "cell_type": "code",
   "execution_count": 1,
   "metadata": {},
   "outputs": [
    {
     "data": {
      "text/plain": [
       "null"
      ]
     },
     "execution_count": 1,
     "metadata": {},
     "output_type": "execute_result"
    }
   ],
   "source": [
    "/* stub class for Breed that will let you test your Pet class getters/setters*/\n",
    "public class Breed{\n",
    "    public void setBreed(String breed){\n",
    "        \n",
    "    }\n",
    "    public String getBreed(){\n",
    "        return \"will be breed info eventually\";\n",
    "    }\n",
    "    \n",
    "    public double getAverageLifespan(){\n",
    "        return 13;  //would vary based on breed eventually\n",
    "    }\n",
    "    \n",
    "}\n",
    "\n",
    "\n"
   ]
  },
  {
   "cell_type": "code",
   "execution_count": 2,
   "metadata": {},
   "outputs": [
    {
     "data": {
      "text/plain": [
       "null"
      ]
     },
     "execution_count": 2,
     "metadata": {},
     "output_type": "execute_result"
    }
   ],
   "source": [
    "/* stub class for Owner that will let you test your Pet class getters/setters*/\n",
    "public class Owner {\n",
    "    \n",
    "    public String getOwnerName(){\n",
    "        return \"Ziggy Stardust\";\n",
    "    }\n",
    "    public void setOwnerName(String name){\n",
    "        //no-op just as placeholder\n",
    "    }\n",
    "    \n",
    "}"
   ]
  },
  {
   "cell_type": "code",
   "execution_count": null,
   "metadata": {},
   "outputs": [],
   "source": [
    "/*revise the pet class here to include accessors and mutators.  Remember to make the instance variables private */\n",
    "public class Pet{\n",
    "    \n",
    "    \n",
    "    \n",
    "}"
   ]
  },
  {
   "cell_type": "code",
   "execution_count": null,
   "metadata": {},
   "outputs": [],
   "source": [
    "/*revise this code snippet below to work with your revised pet class */\n",
    "\n",
    "Pet myPet = new Pet();\n",
    "myPet.setName(\"Sparky\");\n",
    "myPet.setBreed(\"Dalmation\");\n",
    "myPet.setOwnerName(\"Some Name Here\");\n",
    "System.out.println(myPet);  //if you write a toString method for the Pet class this will work nicely\n",
    "\n",
    "\n",
    "\n"
   ]
  }
 ],
 "metadata": {
  "kernelspec": {
   "display_name": "Java11",
   "language": "java",
   "name": "java"
  },
  "language_info": {
   "codemirror_mode": "text/x-java",
   "file_extension": ".java",
   "mimetype": "",
   "name": "Java",
   "nbconverter_exporter": "",
   "version": "11.0.13"
  }
 },
 "nbformat": 4,
 "nbformat_minor": 4
}
