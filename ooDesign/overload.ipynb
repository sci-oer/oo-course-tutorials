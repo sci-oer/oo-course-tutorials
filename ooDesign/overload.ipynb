{
 "cells": [
  {
   "cell_type": "markdown",
   "metadata": {},
   "source": [
    "### **Overload** \n",
    "\n",
    "Method overloading, is when multiple methods in the same class have different parameters, but the same name.\n",
    "\n",
    "See [Instance variables wiki](http://javanotes.socs.uoguelph.ca/intro/variables) for things to consider when defining instance variables.  This page will provide you with some practice in instance variables.\n"
   ]
  },
  {
   "cell_type": "code",
   "execution_count": null,
   "metadata": {},
   "outputs": [],
   "source": [
    "// method with two parameters\n",
    "int overloadEx(int a, int b) {\n",
    "  // code\n",
    "}\n",
    "\n",
    "// method with no parameter\n",
    "int overloadEx(){\n",
    "  // code\n",
    "}"
   ]
  },
  {
   "cell_type": "markdown",
   "metadata": {},
   "source": [
    "If a method is created with parameters, we need to pass it values while calling the method.\n",
    "For instance: `overloadEx(1, 2);`"
   ]
  },
  {
   "cell_type": "code",
   "execution_count": null,
   "metadata": {},
   "outputs": [],
   "source": [
    "// calling the method with two parameters 10, and 20\n",
    "\n",
    "\n",
    "// calling the method with no parameters\n"
   ]
  },
  {
   "cell_type": "markdown",
   "metadata": {},
   "source": [
    "Write class `Test` that overloads the method `display()` twice. \n",
    "\n",
    "The first time it will take a parameter of type `Object` called object and prints \"Object\" using `System.out.println`.\n",
    "\n",
    "The second time takes parameter of type `String` and prints \"String\" using `System.out.println`."
   ]
  },
  {
   "cell_type": "code",
   "execution_count": null,
   "metadata": {},
   "outputs": [],
   "source": [
    "public class Test {\n",
    "     // void display with Object parameter. \n",
    "     // prints \"Object\"\n",
    " \n",
    "    \n",
    "    \n",
    "    \n",
    "     // overloads void display with String parameter. \n",
    "     // prints \"String\"\n",
    "     \n",
    "    \n",
    "    \n",
    "}"
   ]
  },
  {
   "cell_type": "code",
   "execution_count": null,
   "metadata": {},
   "outputs": [],
   "source": [
    "Test test = new Test();\n",
    "test.display(null);"
   ]
  },
  {
   "cell_type": "markdown",
   "metadata": {},
   "source": [
    "What did you think this code will print out? You should see a result that looks something like: String\n",
    "\n",
    "The most specific method is always the one that will be called by JVM, in case of overload."
   ]
  },
  {
   "cell_type": "code",
   "execution_count": null,
   "metadata": {},
   "outputs": [],
   "source": []
  }
 ],
 "metadata": {
  "kernelspec": {
   "display_name": "Java",
   "language": "java",
   "name": "java"
  },
  "language_info": {
   "codemirror_mode": "java",
   "file_extension": ".jshell",
   "mimetype": "text/x-java-source",
   "name": "Java",
   "pygments_lexer": "java",
   "version": "11.0.11+9-Ubuntu-0ubuntu2.20.04"
  }
 },
 "nbformat": 4,
 "nbformat_minor": 4
}
