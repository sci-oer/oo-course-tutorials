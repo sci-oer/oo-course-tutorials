{
 "cells": [
  {
   "cell_type": "markdown",
   "metadata": {},
   "source": [
    "### **Inheriting Built in Classes**\n",
    "\n",
    "Inheritance uses the `extends` keyword to create a subclass by reusing the superclass (base class) code.\n",
    "\n",
    "See [Inheritance wiki](http://javanotes.socs.uoguelph.ca/en/oop/inheritance) for things to consider when defining Subclasses and Superclasses.  This page will provide you with some practice in Subclasses and Superclasses\n",
    "\n",
    "#### `extends` Keyword\n",
    "\n",
    "The `extends` keyword extends a class and is an indicator that a class is being inherited by another class. \n",
    "\n",
    "For instance, if class `B` extends a class `A`. Then, class `B` is inheriting the properties (methods, attributes) from class `A`. Thus, class `A` is the superclass and class `B` is the subclass.\n",
    "\n",
    "`class subclass extends superclass { // subclass code }`\n"
   ]
  },
  {
   "cell_type": "markdown",
   "metadata": {
    "tags": []
   },
   "source": [
    "#### Extending Built - in Class\n",
    "\n",
    "To extend a built in class, you need to import that class, before creating a subclass of it using the `extends` keyword.\n",
    "\n",
    "**let's take `ArrayList<E>` as an example, which can be found in the `java.util` package:**\n",
    "\n",
    "To create a subclass of `ArrayList` class of type `E` : `public class className extends ArrayList<E> { }`\n",
    "\n",
    "You are given a `Student` class, write class called `School` that extends the class `ArrayList<Student> `, and consist of 3 methods: \n",
    "\n",
    "1- `addStudents()` takes a first name, last name all of type String and a grade of type int. Then add it to the array list as a new Student.\n",
    "\n",
    "2 - `numbersOfStudents()` which returns the size of the array\n",
    "\n",
    "3 - `studentsDetails()` which prints the following line \"Students Details : \". After that, it starts looping through the students arrayist and print the student details using the `toString()` method in the Student class. Then, print  a new line after leaving the loop."
   ]
  },
  {
   "cell_type": "code",
   "execution_count": null,
   "metadata": {},
   "outputs": [],
   "source": [
    "public class Student {\n",
    "    private String first;\n",
    "    private String last;       \n",
    "    private int grade;      \n",
    "\n",
    "    public Student(String f, String l, int g) {\n",
    "        first = f;\n",
    "        last = l;\n",
    "        grade = g;\n",
    "    }\n",
    "    \n",
    "    public String toString() {\n",
    "        return grade + \" \" + first + \" \" + last;\n",
    "    }\n",
    "}"
   ]
  },
  {
   "cell_type": "code",
   "execution_count": null,
   "metadata": {},
   "outputs": [],
   "source": [
    "// create a class called school that is a subclass of ArrayList class of type Student\n",
    "\n",
    "\n",
    "\n",
    "\n",
    "    // create an arraylist of Student type called students\n",
    "\n",
    "\n",
    "\n",
    "\n",
    "    // `addStudents()` takes a first name, last name all of type String and a grade of type int. Then add it to the array list as a new Student.\n",
    " \n",
    "    \n",
    "    \n",
    "\n",
    "\n",
    "    \n",
    "    // `numbersOfStudents()` which returns the size of the array\n",
    "    \n",
    "    \n",
    "    \n",
    "    \n",
    "\n",
    "\n",
    "    // `studentsDetails()` which prints the following line \"Students Details : \". \n",
    "    // After that, it starts looping through the students arrayist and print the student details using the `toString()` method in the Student class.\n",
    "    // Then, print  a new line after leaving the loop.\n",
    "   \n",
    "    \n",
    "    \n",
    "    \n",
    "    \n",
    "\n",
    "\n"
   ]
  },
  {
   "cell_type": "markdown",
   "metadata": {},
   "source": [
    "Run Student class provided and School class you wrote, along with the following code: "
   ]
  },
  {
   "cell_type": "code",
   "execution_count": null,
   "metadata": {},
   "outputs": [],
   "source": [
    "School school = new School();\n",
    "school.addStudent(\"John\", \"Smith\",11);\n",
    "school.addStudent(\"Lia\", \"Dobi\",11);\n",
    "school.studentsDetails();\n",
    "int studentsNum = school.numbersOfStudents();\n",
    "System.out.println(\"Total number of students = \" + studentsNum);"
   ]
  },
  {
   "cell_type": "markdown",
   "metadata": {},
   "source": [
    "You should see a result that looks something like this:<br>\n",
    "Students Details : <br>\n",
    "11 John Smith<br>\n",
    "11 Lia Dobi<br>\n",
    "<br>\n",
    "Total number of students = 2<br>"
   ]
  },
  {
   "cell_type": "code",
   "execution_count": null,
   "metadata": {},
   "outputs": [],
   "source": []
  }
 ],
 "metadata": {
  "kernelspec": {
   "display_name": "Java",
   "language": "java",
   "name": "java"
  },
  "language_info": {
   "codemirror_mode": "java",
   "file_extension": ".jshell",
   "mimetype": "text/x-java-source",
   "name": "Java",
   "pygments_lexer": "java",
   "version": "11.0.11+9-Ubuntu-0ubuntu2.20.04"
  }
 },
 "nbformat": 4,
 "nbformat_minor": 4
}
