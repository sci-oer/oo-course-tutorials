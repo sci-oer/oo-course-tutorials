{
 "cells": [
  {
   "cell_type": "markdown",
   "metadata": {},
   "source": [
    "### **Using Built - in Interfaces**\n",
    "\n",
    "An interface is an abstract class that is used to group related methods with empty bodies.\n",
    "\n",
    "See [interfaces wiki](http://javanotes.socs.uoguelph.ca/en/oop/interfaces) for things to consider dealing with interfaces.  This page will provide you with some practice on interfaces.\n",
    "\n",
    "#### `implements` Keyword\n",
    "\n",
    "- The `implements` keyword is used to implement an interface.\n",
    "\n",
    "    - To implement an interface : `class A implements B { } `\n",
    "    <br><br>\n",
    "\n",
    "- The `interface` keyword is used to declare a special type of class that only contains abstract methods."
   ]
  },
  {
   "cell_type": "markdown",
   "metadata": {
    "tags": []
   },
   "source": [
    "#### Implementing Interfaces\n",
    "\n",
    "**let's take `Comparable<E>` interface as an example, which can be found in `java.lang` :**\n",
    "\n",
    "`Comparable` is an interface that contains a single method : `public int compareTo(object);`\n",
    "\n",
    "Lists of objects that implement this interface can be sorted automatically by `Collections.sort`; \n",
    "\n",
    "Write class called `Animal` that implements the interface called `Comparable<Animal>`, and implement the following:\n",
    "\n",
    "1 - Animal constructur intialize name and weight to their inital values\n",
    "\n",
    "2 - `compareTo()` method sort by the weight  using `Double.compare()` method. It takes parameter of type Animal, and returns int.\n",
    "\n",
    "3 - `toString()` method that returns string of in the following format: name (weight kg) "
   ]
  },
  {
   "cell_type": "code",
   "execution_count": null,
   "metadata": {},
   "outputs": [],
   "source": [
    "// Write class called `Animal` that implements the interface called `Comparable<Animal>`,\n",
    "\n",
    "\n",
    "    // define variables name and weight\n",
    "\n",
    "    \n",
    "    \n",
    "    \n",
    "    // Animal constructur intialize name and weight to their inital values\n",
    "\n",
    "    \n",
    "    \n",
    "    \n",
    "    // override compareTo() method sort by the weight using Double.compare() method. It takes parameter of type Animal, and returns int.\n",
    " \n",
    "    \n",
    "    \n",
    "    \n",
    "    \n",
    "    // toString() method that returns string of in the following format: name (weight kg)\n",
    "   \n",
    "    \n",
    "    \n",
    "    \n"
   ]
  },
  {
   "cell_type": "markdown",
   "metadata": {},
   "source": [
    "Now Create a class called `SortAnimals` and do the following: \n",
    "\n",
    "1- Create an array list of Animal type called animals\n",
    "\n",
    "2 - `void addAnimals()` method add of the following Animal type objects to the animals arraylist: \n",
    "\n",
    "    - name : Lion and weight: 190.0\n",
    "    \n",
    "    - name : Bison and weight: 800.0\n",
    "    \n",
    "    - name : Kodiak bear and weight: 800.0\n",
    "    \n",
    "    - name : Kodiak bear and weight: 110.0\n",
    "    \n",
    "    - name : South American Fur Seal and weight: 110.0\n",
    "    \n",
    "3 - ` void sortAnimals()` method Sorting the list using `Collections.sort()`\n",
    "\n",
    "4 - `void displayAnimals()` ethod loop through the animals arraylist and print animals details using `toString()` method from Animal class\n"
   ]
  },
  {
   "cell_type": "code",
   "execution_count": null,
   "metadata": {},
   "outputs": [],
   "source": [
    "// Now Create a class called SortAnimals and do the following:\n",
    "\n",
    "\n",
    "\n",
    "   // Create an array list of Animal type called animals\n",
    "    \n",
    "    \n",
    "    \n",
    "    \n",
    "    // void addAnimals() method add of the following Animal type objects to the animals arraylist:\n",
    "\n",
    "    // - name : Lion and weight: 190.0\n",
    "\n",
    "    // - name : Bison and weight: 800.0\n",
    "\n",
    "    // - name : Kodiak bear and weight: 800.0\n",
    "\n",
    "    // - name : Kodiak bear and weight: 110.0\n",
    "\n",
    "    // - name : South American Fur Seal and weight: 110.0\n",
    "  \n",
    "    \n",
    "\n",
    "\n",
    "    \n",
    "    \n",
    "    \n",
    "    \n",
    "    \n",
    "    \n",
    "    \n",
    "\n",
    "    // void sortAnimals() method Sorting the list using Collections.sort()\n",
    "    \n",
    "    \n",
    "    \n",
    "    \n",
    "\n",
    "    // `void displayAnimals()` ethod loop through the animals arraylist and print animals details using `toString()` method from Animal class\n",
    "  \n",
    "    \n",
    "    \n",
    "    \n",
    "    \n",
    "    "
   ]
  },
  {
   "cell_type": "markdown",
   "metadata": {},
   "source": [
    "Run Animal class provided and SortAnimals class you wrote, along with the following code: "
   ]
  },
  {
   "cell_type": "code",
   "execution_count": null,
   "metadata": {},
   "outputs": [],
   "source": [
    "SortAnimals animals = new SortAnimals();\n",
    "\n",
    "animals.addAnimals();\n",
    "animals.sortAnimals();\n",
    "animals.displayAnimals();"
   ]
  },
  {
   "cell_type": "markdown",
   "metadata": {},
   "source": [
    "You should get something that looks like this:<br>\n",
    "Andean Bears (110.0 kg)<br>\n",
    "South American Fur Seal (110.0 kg)<br>\n",
    "Lion (190.0 kg)<br>\n",
    "Bison (800.0 kg)<br>\n",
    "Kodiak bear (800.0 kg)<br>"
   ]
  },
  {
   "cell_type": "code",
   "execution_count": null,
   "metadata": {},
   "outputs": [],
   "source": []
  }
 ],
 "metadata": {
  "kernelspec": {
   "display_name": "Java11",
   "language": "java",
   "name": "java"
  },
  "language_info": {
   "codemirror_mode": "text/x-java",
   "file_extension": ".java",
   "mimetype": "",
   "name": "Java",
   "nbconverter_exporter": "",
   "version": "11.0.13"
  }
 },
 "nbformat": 4,
 "nbformat_minor": 4
}
