{
 "cells": [
  {
   "cell_type": "markdown",
   "metadata": {
    "tags": []
   },
   "source": [
    "### **Creating a Hierarchy**\n",
    "\n",
    "- Classes can be organized in a \"super class - sub class\"  relationship which means that the sub class **automatically has all of the methods of the super class**, without any copying and pasting of code.\n",
    "\n",
    "- The subclass also automatically has **all of the instance and class variables** but because those should be private, the subclass accesses those variables through getters and setters.\n",
    "\n",
    "See [Inheritance wiki](http://javanotes.socs.uoguelph.ca/en/oop/inheritance) for things to consider when defining Subclasses and Superclasses.  This page will provide you with some practice in Subclasses and Superclasses\n",
    "\n",
    "#### Superclass (Base Class)"
   ]
  },
  {
   "cell_type": "code",
   "execution_count": null,
   "metadata": {},
   "outputs": [],
   "source": [
    "//base class\n",
    "public class Animal {\n",
    "    /* instance variables and getters/setters should be here \n",
    "    \n",
    "    picture\n",
    "    location\n",
    "    food\n",
    "    hunger\n",
    "    boundaries\n",
    "    \n",
    "    We'll just do food\n",
    "    */\n",
    "    \n",
    "    public Animal(){\n",
    "        setFood(\"something\");\n",
    "    }\n",
    "    \n",
    "    private String food;\n",
    "    \n",
    "    void setFood(String theFood){\n",
    "        food = theFood;\n",
    "    }\n",
    "    \n",
    "    String getFood(){\n",
    "        return food;\n",
    "    }\n",
    "    \n",
    "    public void eat() {\n",
    "    }\n",
    "}"
   ]
  },
  {
   "cell_type": "markdown",
   "metadata": {},
   "source": [
    "#### Subclass (Inheriting Superclass)\n",
    "\n",
    "- `extends` keyword can be used to declare a class a subclass of another class.\n"
   ]
  },
  {
   "cell_type": "code",
   "execution_count": null,
   "metadata": {},
   "outputs": [],
   "source": [
    "//Canine and Feline subclasses that define their own methods\n",
    "public class Canine extends Animal {\n",
    "    public void roam() { }\n",
    "}\n",
    "\n",
    "// create a Feline subclass that extends Animal and create a public void method called roam() that doesn't do anything\n",
    "\n",
    "\n",
    "\n"
   ]
  },
  {
   "cell_type": "markdown",
   "metadata": {},
   "source": [
    "#### A subclass can be further subclassed\n",
    "\n",
    "- When a class is declared as a subclass it will inherits variables and methods from the superclass. (as if they were declared in the subclass itself).\n",
    "\n",
    "- A subclass can be further subclassed\n",
    "\n",
    "- For instance, let's say you have class A as superclass for subclass B, which will serve as a superclass for the subclass C.\n",
    "\n",
    "- The subclass may override some or all methods in the superclass. When a subclass overrides a method, it will replace the superclass (base class) implementation with its own.\n"
   ]
  },
  {
   "cell_type": "code",
   "execution_count": null,
   "metadata": {},
   "outputs": [],
   "source": [
    "//A subclass that inherits from Canine and overrides the eat() method in Animal\n",
    "public class Dog extends Canine {\n",
    "    @Override\n",
    "    public void eat() {\n",
    "        System.out.printf(\"I eat %s!\", getFood());\n",
    "    }\n",
    "}\n",
    "// create a Cat class that extends Feline, and overrides eat() method.\n",
    "// The eat() will print \"I pick at %s!\" + getFood() method from Animal\n",
    "\n",
    "\n",
    "\n",
    "\n"
   ]
  },
  {
   "cell_type": "markdown",
   "metadata": {},
   "source": [
    "#### `@Override`\n",
    "\n",
    "`@Override` tells the compiler of your intention to override a method declared in the superclass."
   ]
  },
  {
   "cell_type": "code",
   "execution_count": null,
   "metadata": {},
   "outputs": [],
   "source": [
    "// create a Lion class that extends Feline, and overrides eat() method.\n",
    "// The eat() will print \"I devour %s!\" + getFood() method from Animal\n",
    "\n",
    "\n",
    "\n",
    "\n",
    "\n",
    "// create a Hippo class that extends Animal, and overrides eat() method.\n",
    "// The eat() will print \"I pick at %s!\" + getFood() method from Animal\n",
    "\n",
    "\n",
    "\n",
    "\n"
   ]
  },
  {
   "cell_type": "markdown",
   "metadata": {},
   "source": [
    "**Below follow those steps and write a code that will test the classes above:**\n",
    "\n",
    "    1- Make an arraylist of Animal objects \n",
    "\n",
    "    2- Add a dod, cat, lion and hippo object to the arraylist\n",
    "\n",
    "    3- Loop through it :\n",
    "\n",
    "        1- call the `eat()` method on each of the array objects\n",
    "\n",
    "        2- after each time you call the `eat()` method print a new line"
   ]
  },
  {
   "cell_type": "code",
   "execution_count": null,
   "metadata": {},
   "outputs": [],
   "source": [
    "// Make an arraylist of Animal objects\n",
    "\n",
    "\n",
    "\n",
    "// add a dod, cat, lion and hippo object to the arraylist\n",
    "\n",
    "\n",
    "\n",
    "\n",
    "// loop through it \n",
    "\n",
    "    \n",
    "    // call the eat method on each of the array elements\n",
    "\n",
    "    \n",
    "    // print a new line\n",
    "\n"
   ]
  },
  {
   "cell_type": "markdown",
   "metadata": {},
   "source": [
    "You should see a result that looks something like this:<br>\n",
    "I eat something!<br>\n",
    "I pick at something!<br>\n",
    "I devour something!<br>\n",
    "I eat something!<br>"
   ]
  },
  {
   "cell_type": "code",
   "execution_count": null,
   "metadata": {},
   "outputs": [],
   "source": []
  }
 ],
 "metadata": {
  "kernelspec": {
   "display_name": "Java11",
   "language": "java",
   "name": "java"
  },
  "language_info": {
   "codemirror_mode": "text/x-java",
   "file_extension": ".java",
   "mimetype": "",
   "name": "Java",
   "nbconverter_exporter": "",
   "version": "11.0.13"
  }
 },
 "nbformat": 4,
 "nbformat_minor": 4
}
