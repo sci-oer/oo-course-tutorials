{
 "cells": [
  {
   "cell_type": "markdown",
   "metadata": {},
   "source": [
    "#### **Create an Interface**\n",
    "\n",
    "- The methods in an interface must be public because they describe behaviours that the user of an object will need. \n",
    "- Because interfaces describe behaviours, the name of an interface should convey the behaviour\n",
    "- Methods in an interface should not have implementations.\n",
    "- Interfaces should not have member variables.  \n",
    "- Interfaces sometimes hold the definitions for constants.\n",
    "\n",
    "See [interfaces wiki](http://javanotes.socs.uoguelph.ca/en/oop/interfaces) for things to consider dealing with interfaces.  This page will provide you with some practice on interfaces.\n",
    "\n",
    "#### Define an Interface"
   ]
  },
  {
   "cell_type": "code",
   "execution_count": null,
   "metadata": {},
   "outputs": [],
   "source": [
    "public interface Person {\n",
    "  public void sleep(); \n",
    "  public void work(); \n",
    "}"
   ]
  },
  {
   "cell_type": "markdown",
   "metadata": {},
   "source": [
    "Define an interface called `WordInterface` that has two methods:\n",
    "\n",
    "1- void method called `printStuff()`\n",
    "\n",
    "2- method called `getLength()` that returns an int and takes type String parameter called x"
   ]
  },
  {
   "cell_type": "code",
   "execution_count": null,
   "metadata": {},
   "outputs": [],
   "source": [
    "// Define an interface called `WordInterface` that has two methods:\n",
    "\n",
    "\n",
    "    // write a void method called `printStuff()`\n",
    "\n",
    "\n",
    "    // write a  method called `getLength()` that returns an int and takes type String parameter called x\n",
    "\n"
   ]
  },
  {
   "cell_type": "markdown",
   "metadata": {
    "tags": []
   },
   "source": [
    "#### Using an Interface\n",
    "\n",
    "* You  implement an interface in a class by using the `implements` keyword in the class definition. \n",
    "* The class implementing an interface MUST provide an implementation for all methods from the interface.\n",
    "* That implementation is said to **override** the method.  \n",
    "\n",
    "`implements` keyword Syntax: `class A implements B { } `\n",
    "\n",
    "Write a class called `Word` that implements `WordInterface`:"
   ]
  },
  {
   "cell_type": "code",
   "execution_count": null,
   "metadata": {},
   "outputs": [],
   "source": [
    "// Write a class called `Word` that implements `WordInterface`:\n",
    "\n",
    "\n",
    "    //  write an implementation for the method printStuff() -> prints \"Hello, Interfaces!\"\n",
    "   \n",
    "    \n",
    "    \n",
    "    \n",
    "    //  write an implementation for the method getLength() -> returns the length of string x, you can use the length() method\n",
    "  \n",
    "    \n",
    "    \n"
   ]
  },
  {
   "cell_type": "markdown",
   "metadata": {},
   "source": [
    "Run the code blocks above, along side the one below. Check if the result is as expected:"
   ]
  },
  {
   "cell_type": "code",
   "execution_count": null,
   "metadata": {},
   "outputs": [],
   "source": [
    "Word word = new Word();\n",
    "\n",
    "word.printStuff();\n",
    "System.out.println(word.getLength(\"Interface\"));"
   ]
  },
  {
   "cell_type": "markdown",
   "metadata": {},
   "source": [
    "You should see a result that looks something like this:<br>\n",
    "Hello, Interfaces!<br>\n",
    "9<br>"
   ]
  },
  {
   "cell_type": "markdown",
   "metadata": {},
   "source": [
    "#### Multiple Interfaces\n",
    "\n",
    "The use of an interface lets the programmer group together objects that have single common features. \n",
    "\n",
    "**For example:**\n",
    "\n",
    "* An interface called `Edible` could be used to group together all elements of an adventure game that were `Edible`.  An interface called `Tossable` could be used to group together all elements that could be thrown by the player.\n",
    "\n",
    "* An Item like a Potion could be both `Edible` and `Tossable`\n",
    "\n",
    "* A key benefit of interfaces is that you can implement multiple interfaces in one class.   Interfaces are Java's answer to the difficulty with multiple inheritance.\n",
    "\n",
    "Define an interface called `NumberInterface` that has one method:\n",
    "\n",
    "abstract method called `squareRoot()` that returns an double and takes type double parameter called x"
   ]
  },
  {
   "cell_type": "code",
   "execution_count": null,
   "metadata": {},
   "outputs": [],
   "source": [
    "// Define an interface called `NumberInterface` that has one method:\n",
    "\n",
    "    // write a abstract method called `squareRoot()` that returns an double and takes type double parameter called x\n",
    "\n"
   ]
  },
  {
   "cell_type": "markdown",
   "metadata": {},
   "source": [
    "Rewrite a class called `Word` that implements `WordInterface` and `NumberInterface`:"
   ]
  },
  {
   "cell_type": "code",
   "execution_count": null,
   "metadata": {},
   "outputs": [],
   "source": [
    "// Write a class called `Word` that implements `WordInterface` and `NumberInterface`:\n",
    "\n",
    "\n",
    "    //  write an implementation for the method printStuff() -> prints \"Hello, Interfaces!\"\n",
    "   \n",
    "    \n",
    "    \n",
    "    \n",
    "    //  write an implementation for the method getLength() -> returns the length of string x, you can use the length() method\n",
    "  \n",
    "    \n",
    "    \n",
    "\n",
    "    // write an implementation for the method squareRoot() -> returns square root of the double variable x \n",
    "    // using the method sqrt() from Math class: Math.sqrt(double)\n",
    "\n",
    "\n",
    "\n"
   ]
  },
  {
   "cell_type": "markdown",
   "metadata": {},
   "source": [
    "Run the code blocks above, along side the one below. Check if the result is as expected:"
   ]
  },
  {
   "cell_type": "code",
   "execution_count": null,
   "metadata": {},
   "outputs": [],
   "source": [
    "Word word = new Word();\n",
    "\n",
    "word.printStuff();\n",
    "System.out.println(word.getLength(\"Interface\"));\n",
    "System.out.println(word.squareRoot(4.0));"
   ]
  },
  {
   "cell_type": "markdown",
   "metadata": {},
   "source": [
    "You should see a result that looks something like this:<br>\n",
    "Hello, Interfaces!<br>\n",
    "9<br>\n",
    "2.0<br>"
   ]
  },
  {
   "cell_type": "code",
   "execution_count": null,
   "metadata": {},
   "outputs": [],
   "source": []
  }
 ],
 "metadata": {
  "kernelspec": {
   "display_name": "Java11",
   "language": "java",
   "name": "java"
  },
  "language_info": {
   "codemirror_mode": "text/x-java",
   "file_extension": ".java",
   "mimetype": "",
   "name": "Java",
   "nbconverter_exporter": "",
   "version": "11.0.13"
  }
 },
 "nbformat": 4,
 "nbformat_minor": 4
}
