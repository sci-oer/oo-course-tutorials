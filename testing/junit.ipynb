{
 "cells": [
  {
   "cell_type": "markdown",
   "metadata": {},
   "source": [
    "### **Junit**\n",
    "\n",
    "**Manual testing** is executing test cases manually without any tool support.\n",
    "\n",
    "**Automated Testing** is using a tool support to execute test cases.\n",
    "    \n",
    "**JUnit** is an open-source unit testing framework for java programmers.\n",
    "\n",
    "See [junit wiki](http://javanotes.socs.uoguelph.ca/en/tools/junit) for things to consider when defining junit.  This page will provide you with some practice in junit.\n",
    "\n",
    "#### Junit testing Annotations\n",
    "\n",
    "`@Test` - identify the test method\n",
    "\n",
    "`@Test(timeout=1000)` - identify the method that will take longer than 1000 milliseconds (1 second).\n",
    "\n",
    "`@BeforeClass` - identify a test method to invoke before all the tests\n",
    "\n",
    "`@Before` - identify a test method to invoke before each test\n",
    "\n",
    "`@After` - identify a test method to invoke before after each test\n",
    "\n",
    "`@AfterClass` - identify a test method to invoke after all the tests\n",
    "\n",
    "#### Assert class\n",
    "\n",
    "`void assertTrue(boolean condition)`: checks that a condition is true.\n",
    "\n",
    "Example of junit test using `assertTrue()`:"
   ]
  },
  {
   "cell_type": "code",
   "execution_count": 1,
   "metadata": {},
   "outputs": [
    {
     "ename": "@Test",
     "evalue": "@Test",
     "output_type": "error",
     "text": "@Test\npublic void TestAssert() {\nassertTrue(8 % 2 == 0);\n}\n",
     "traceback": [
      "\u001b[1;31m@Test\u001b[0;0m",
      "\u001b[1;31mpublic void TestAssert() {\u001b[0;0m",
      "\u001b[1;31massertTrue(8 % 2 == 0);\u001b[0;0m",
      "\u001b[1;31m}\u001b[0;0m"
     ]
    }
   ],
   "source": [
    "@Test\n",
    "public void TestAssert() {\n",
    "    assertTrue(8 % 2 == 0);\n",
    "}"
   ]
  },
  {
   "cell_type": "markdown",
   "metadata": {},
   "source": [
    "create a junit test that checks if the condition variable one is less than variable is true:"
   ]
  },
  {
   "cell_type": "code",
   "execution_count": 2,
   "metadata": {},
   "outputs": [
    {
     "data": {
      "text/plain": [
       "10"
      ]
     },
     "execution_count": 2,
     "metadata": {},
     "output_type": "execute_result"
    }
   ],
   "source": [
    "// create a junit test that checks if the condition variable one is less than variable is true:\n",
    "int one = 5;\n",
    "int two = 10;\n",
    "\n"
   ]
  },
  {
   "cell_type": "markdown",
   "metadata": {},
   "source": [
    "`void assertFalse(boolean condition)`: checks that a condition is false\n",
    "\n",
    "create a junit test that checks if the condition variable one is more than variable two false"
   ]
  },
  {
   "cell_type": "code",
   "execution_count": 3,
   "metadata": {},
   "outputs": [
    {
     "data": {
      "text/plain": [
       "10"
      ]
     },
     "execution_count": 3,
     "metadata": {},
     "output_type": "execute_result"
    }
   ],
   "source": [
    "// create a junit test that checks if the condition variable one is more than variable two false\n",
    "int one = 5;\n",
    "int two = 10;\n",
    "\n"
   ]
  },
  {
   "cell_type": "markdown",
   "metadata": {},
   "source": [
    "`void assertEquals(boolean expected,boolean actual)`: checks that two primitives/objects are equal.\n",
    "\n",
    "create a junit test that checks if String one and String two are equals"
   ]
  },
  {
   "cell_type": "code",
   "execution_count": null,
   "metadata": {},
   "outputs": [],
   "source": [
    "// create a junit test that checks if String one and String two are equals\n",
    "String one = \"test\";\n",
    "String two = \"test\";\n",
    "\n"
   ]
  },
  {
   "cell_type": "markdown",
   "metadata": {},
   "source": [
    "`void assertNull(Object obj)`: checks that object is null.\n",
    "\n",
    "create a a junit test that checks if String str is null"
   ]
  },
  {
   "cell_type": "code",
   "execution_count": null,
   "metadata": {},
   "outputs": [],
   "source": [
    "// create a a junit test that checks if String str is null\n",
    "String str = null;\n",
    "\n"
   ]
  },
  {
   "cell_type": "markdown",
   "metadata": {},
   "source": [
    "`void assertNotNull(Object obj)`: checks that object is not null.\n",
    "\n",
    "create a a junit test that checks if String str is not null"
   ]
  },
  {
   "cell_type": "code",
   "execution_count": null,
   "metadata": {},
   "outputs": [],
   "source": [
    "// create a a junit test that checks if String str is null\n",
    "String str = \"test\";\n",
    "\n"
   ]
  }
 ],
 "metadata": {
  "kernelspec": {
   "display_name": "Java11",
   "language": "java",
   "name": "java"
  },
  "language_info": {
   "codemirror_mode": "text/x-java",
   "file_extension": ".java",
   "mimetype": "",
   "name": "Java",
   "nbconverter_exporter": "",
   "version": "11.0.13"
  }
 },
 "nbformat": 4,
 "nbformat_minor": 4
}
