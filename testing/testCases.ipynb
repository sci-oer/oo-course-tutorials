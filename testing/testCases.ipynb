{
 "cells": [
  {
   "cell_type": "markdown",
   "metadata": {},
   "source": [
    "### **Making a good test case**\n",
    "\n",
    "**What makes a good test case?**\n",
    "\n",
    "- **Tests only one thing**\n",
    "\n",
    "   No unnecessary steps should be included in it, otherwise tracking results and errors becomes difficult.\n",
    "   \n",
    "- **the test cases are organized consistently**\n",
    "\n",
    "    You can organize your test cases in many ways however you should always follow the same pattern to organize you test cases.\n",
    "\n",
    "- **independent test cases**\n",
    "\n",
    "   you should be able to execute your test case individually with having dependency on other test cases.\n",
    "\n",
    "- **small test cases**\n",
    "\n",
    "    It should be simple and clear, any tester should be able to understand it by reading once.\n",
    "\n",
    "- **Accurate**\n",
    "\n",
    "    Should be accurate, and tests what it is intended to test. \n",
    "\n",
    "See [test cases wiki](http://javanotes.socs.uoguelph.ca/en/generalKnowledge/testCases) for things to consider when defining junit.  This page will provide you with some practice in test cases.\n",
    "\n",
    "#### Identify Good Cases:\n",
    "\n",
    "A program has been provided look at it. Then, check each of the test cases below, there are some examples of bad and good test cases scenarios\n",
    "\n",
    "Read the bad scenario and fix it into a good scenario:"
   ]
  },
  {
   "cell_type": "code",
   "execution_count": null,
   "metadata": {
    "vscode": {
     "languageId": "java"
    }
   },
   "outputs": [],
   "source": [
    "public class Theater {\n",
    "    ArrayList<String> movies = new ArrayList<>();\n",
    "    \n",
    "    public void addMovie(String title) {\n",
    "        movies.add(title);\n",
    "    }\n",
    "    \n",
    "    public void removeMovie(String title) {\n",
    "        movies.remove(title);\n",
    "    }\n",
    "    \n",
    "    public void sortMovies() {\n",
    "        Collections.sort(movies);\n",
    "    }\n",
    "    \n",
    "    public int numberOfMovies() {\n",
    "        return movies.size();\n",
    "    }\n",
    "    \n",
    "    public String findMovie(String name) {\n",
    "        boolean match = false;\n",
    "\n",
    "        for(String matchingname : movies) {\n",
    "            if (matchingname.toLowerCase().contains(name.toLowerCase())) {\n",
    "                match = true;\n",
    "                return matchingname;\n",
    "            }\n",
    "        }\n",
    "        return \" \";\n",
    "    }\n",
    "}"
   ]
  },
  {
   "cell_type": "markdown",
   "metadata": {},
   "source": [
    "I have used the before Annotations to set up a initial method that will run before all test cases it should have the result and expected Theater object initializations."
   ]
  },
  {
   "cell_type": "code",
   "execution_count": null,
   "metadata": {
    "vscode": {
     "languageId": "java"
    }
   },
   "outputs": [],
   "source": [
    "// before Annotations to set up a initial method that will run before all test cases\n",
    "// it should have the result and expected Theater object initializations, and add the elements to the array\n",
    "\n",
    "@Before \n",
    "public void setUp() {\n",
    "    Theater result = new Theater();\n",
    "    result.addMovie(\"Avatar\");\n",
    "    result.addMovie(\"Dark Places\");\n",
    "}"
   ]
  },
  {
   "cell_type": "markdown",
   "metadata": {},
   "source": [
    "#### Naming your tests\n",
    "\n",
    "While naming your tests, you should consider the following:\n",
    "\n",
    "1.  name of the method to be tested\n",
    "2.  scenario the method is being tested under.\n",
    "3.  The expected behavior when the scenario is invoked.\n",
    "\n",
    "following those rules is essential to express the intent of the test.\n",
    "\n",
    "**Bad:**"
   ]
  },
  {
   "cell_type": "code",
   "execution_count": null,
   "metadata": {
    "vscode": {
     "languageId": "java"
    }
   },
   "outputs": [],
   "source": [
    "@Test\n",
    "public void Test_number()\n",
    "{\n",
    "    int actual = result.numberOfMovies();\n",
    "    assertEquals(2,actual);\n",
    "}"
   ]
  },
  {
   "cell_type": "markdown",
   "metadata": {},
   "source": [
    "**Good:**\n",
    "\n",
    "I will rewrite this into a good case for you, but you will need to rewrite the other ones below yourself."
   ]
  },
  {
   "cell_type": "code",
   "execution_count": null,
   "metadata": {
    "vscode": {
     "languageId": "java"
    }
   },
   "outputs": [],
   "source": [
    "@Test\n",
    "public void numberOfMovies_FourArrayElements_SizeOfArray()\n",
    "{\n",
    "    int actual = result.numberOfMovies();\n",
    "    assertEquals(2,actual);\n",
    "}"
   ]
  },
  {
   "cell_type": "markdown",
   "metadata": {},
   "source": [
    "#### Arranging your tests\n",
    "\n",
    "While arranging a test you should follow the following pattern:\n",
    "\n",
    "1. **Arrange** your objects.\n",
    "2. **Act** on an object.\n",
    "3. **Assert** that something is as expected.\n",
    "\n",
    "By following this pattern, you will be distinguishing what is being tested from the arrange and assert steps.\n",
    "\n",
    "**Bad:**"
   ]
  },
  {
   "cell_type": "code",
   "execution_count": null,
   "metadata": {
    "vscode": {
     "languageId": "java"
    }
   },
   "outputs": [],
   "source": [
    "@Test\n",
    "public void sortMovies_UnsortedMovieList_ReturnsSortedMovieList()\n",
    "{\n",
    "    // Arrange\n",
    "    Theater expected = new Theater();    \n",
    "    expected.addMovie(\"Dark Places\");\n",
    "    expected.addMovie(\"Avatar\");\n",
    "    \n",
    "    // Assert\n",
    "    assertArrayEquals(expected,result.sortMovies());\n",
    "}"
   ]
  },
  {
   "cell_type": "markdown",
   "metadata": {},
   "source": [
    "**Good:**\n",
    "\n",
    "rewrite the bad test case into a good one:"
   ]
  },
  {
   "cell_type": "code",
   "execution_count": null,
   "metadata": {
    "vscode": {
     "languageId": "java"
    }
   },
   "outputs": [],
   "source": [
    "// rewrite the bad case into a good one, by fixing the problem: \n",
    "// The bad case is not arranged according to the arrange, act, assert pattern\n",
    "\n",
    "\n",
    "\n"
   ]
  },
  {
   "cell_type": "markdown",
   "metadata": {},
   "source": [
    "#### Avoid multiple acts\n",
    "\n",
    "When writing your tests, create a separate test for each act.\n",
    "\n",
    "**Bad:**"
   ]
  },
  {
   "cell_type": "code",
   "execution_count": null,
   "metadata": {
    "vscode": {
     "languageId": "java"
    }
   },
   "outputs": [],
   "source": [
    "@Test\n",
    "public void findMovie_MovieTitles_ReturnsCorrectResults()\n",
    "{\n",
    "    result.findMovie(\"Dark Places\");\n",
    "    result.findMovie(\"The Dark Places\");\n",
    "    \n",
    "    assertEquals(\"Dark Places\", result);\n",
    "    assertEquals(\" \", result);\n",
    "}"
   ]
  },
  {
   "cell_type": "markdown",
   "metadata": {},
   "source": [
    "**Good:**"
   ]
  },
  {
   "cell_type": "code",
   "execution_count": null,
   "metadata": {
    "vscode": {
     "languageId": "java"
    }
   },
   "outputs": [],
   "source": [
    "// rewrite the bad case into a good one, by fixing the problem: \n",
    "// The bad case has multiple acts, while you need a seperate test for each act\n",
    "\n",
    "\n",
    "\n"
   ]
  },
  {
   "cell_type": "code",
   "execution_count": null,
   "metadata": {
    "vscode": {
     "languageId": "java"
    }
   },
   "outputs": [],
   "source": [
    "// rewrite the bad case into a good one, by fixing the problem: \n",
    "// The bad case has multiple acts, while you need a seperate test for each act\n",
    "\n",
    "\n",
    "\n"
   ]
  },
  {
   "cell_type": "markdown",
   "metadata": {},
   "source": [
    "#### Write minimally passing tests\n",
    "Use the simplest possible values in a unit test, to verify the behavior you are testing for.\n",
    "\n",
    "**Bad:**"
   ]
  },
  {
   "cell_type": "code",
   "execution_count": null,
   "metadata": {
    "vscode": {
     "languageId": "java"
    }
   },
   "outputs": [],
   "source": [
    "@Test\n",
    "public void removeMovie_MovieTitle_removeTitle()\n",
    "{\n",
    "    result.removeMovie(\"Dark Places\");\n",
    "    \n",
    "    assertEquals(1,result);\n",
    "}"
   ]
  },
  {
   "cell_type": "markdown",
   "metadata": {},
   "source": [
    "**Good:**"
   ]
  },
  {
   "cell_type": "code",
   "execution_count": null,
   "metadata": {
    "vscode": {
     "languageId": "java"
    }
   },
   "outputs": [],
   "source": [
    "// rewrite the bad case into a good one, by fixing the problem: \n",
    "// The bad case does not use the simplest possible values\n",
    "\n",
    "\n",
    "\n"
   ]
  },
  {
   "cell_type": "markdown",
   "metadata": {},
   "source": [
    "### **Writing multiple test cases for the same method**\n",
    "\n",
    "See [test cases wiki](http://javanotes.socs.uoguelph.ca/en/generalKnowledge/testCases) for things to consider when defining junit.  This page will provide you with some practice in test cases.\n"
   ]
  },
  {
   "cell_type": "code",
   "execution_count": null,
   "metadata": {
    "vscode": {
     "languageId": "java"
    }
   },
   "outputs": [],
   "source": [
    "public class StringsCalculator {\n",
    "     public int add(String str) {\n",
    "\n",
    "         int sum = 0;\n",
    "         for (char ch: str.toCharArray()) {\n",
    "\n",
    "             if (Character.isDigit(ch)) {\n",
    "                 sum += Character.getNumericValue(ch);\n",
    "             }\n",
    "\n",
    "         }\n",
    "\n",
    "         return sum;\n",
    "     }\n",
    "}"
   ]
  },
  {
   "cell_type": "markdown",
   "metadata": {},
   "source": [
    "Below is a test case that uses the `add()` method above in the `StringsCalculator` class, and checks for an empty string. The expected result is 0"
   ]
  },
  {
   "cell_type": "code",
   "execution_count": null,
   "metadata": {
    "vscode": {
     "languageId": "java"
    }
   },
   "outputs": [],
   "source": [
    "@Test\n",
    "public void Add_EmptyString_Zero()\n",
    "{\n",
    "    StringsCalculator calculator = new StringsCalculator();\n",
    "\n",
    "    int actual = calculator.add(\"\");\n",
    "\n",
    "    assertEquals(0, actual);\n",
    "}"
   ]
  },
  {
   "cell_type": "markdown",
   "metadata": {},
   "source": [
    "Write a test case that uses the `add()` method above in the `StringsCalculator` class, where you will check for a single number (use \"0\" as the input). The expected result is 0\n",
    "\n",
    "Write a good test case by checking this page: oer_oo_jupyternotes/testing/testCases/good_test_cases.ipynb "
   ]
  },
  {
   "cell_type": "code",
   "execution_count": null,
   "metadata": {
    "vscode": {
     "languageId": "java"
    }
   },
   "outputs": [],
   "source": [
    "// Write a test case that uses the `add()` method above in the `StringsCalculator` class, where you will check for a single number (use \"0\" as the input). The expected result is 0\n",
    "\n",
    "\n"
   ]
  },
  {
   "cell_type": "markdown",
   "metadata": {},
   "source": [
    "Write a test case that uses the `add()` method above in the `StringsCalculator` class, where you will check for an two numbers (use \"0,1\" as the input). The expected result is 1\n",
    "\n",
    "Write a good test case by checking this page: oer_oo_jupyternotes/testing/testCases/good_test_cases.ipynb "
   ]
  },
  {
   "cell_type": "code",
   "execution_count": null,
   "metadata": {
    "vscode": {
     "languageId": "java"
    }
   },
   "outputs": [],
   "source": [
    "// Write a test case that uses the `add()` method above in the `StringsCalculator` class, where you will check for an two numbers (use \"0,1\" as the input). The expected result is 1\n",
    "\n",
    "\n",
    "\n"
   ]
  },
  {
   "cell_type": "markdown",
   "metadata": {},
   "source": [
    "Write a test case that uses the `add()` method above in the `StringsCalculator` class, where you will check for an multiple numbers (use \"1,2,3\" as the input). The expected result is 6\n",
    "\n",
    "Write a good test case by checking this page: oer_oo_jupyternotes/testing/testCases/good_test_cases.ipynb "
   ]
  },
  {
   "cell_type": "code",
   "execution_count": null,
   "metadata": {
    "vscode": {
     "languageId": "java"
    }
   },
   "outputs": [],
   "source": [
    "// Write a test case that uses the `add()` method above in the `StringsCalculator` class, where you will check for an multiple numbers (use \"1,2,3\" as the input). The expected result is 6\n",
    "\n",
    "\n",
    "\n"
   ]
  }
 ],
 "metadata": {
  "kernelspec": {
   "display_name": "Java",
   "language": "java",
   "name": "java"
  },
  "language_info": {
   "codemirror_mode": "java",
   "file_extension": ".jshell",
   "mimetype": "text/x-java-source",
   "name": "Java",
   "pygments_lexer": "java",
   "version": "11.0.11+9-Ubuntu-0ubuntu2.20.04"
  }
 },
 "nbformat": 4,
 "nbformat_minor": 4
}
